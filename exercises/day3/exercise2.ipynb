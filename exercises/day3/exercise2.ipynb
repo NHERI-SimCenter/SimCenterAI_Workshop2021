{
 "cells": [
  {
   "cell_type": "markdown",
   "metadata": {
    "id": "POx1DBCKaFge"
   },
   "source": [
    "# Exercise 2"
   ]
  },
  {
   "cell_type": "markdown",
   "metadata": {
    "id": "n3wr-kWfaFgg"
   },
   "source": [
    "In this exercise, we are going to use ResNet and tranformer for roof-type classfication. With this exercise, you will learn how to use the idea of transfer learning for image classification. First, we need to download the dataset,"
   ]
  },
  {
   "cell_type": "code",
   "execution_count": null,
   "metadata": {
    "colab": {
     "base_uri": "https://localhost:8080/"
    },
    "executionInfo": {
     "elapsed": 29599,
     "status": "ok",
     "timestamp": 1628318078365,
     "user": {
      "displayName": "Yunhui Guo",
      "photoUrl": "",
      "userId": "05876241955475361353"
     },
     "user_tz": 420
    },
    "id": "ynSsWP4OMI77",
    "outputId": "0f38a912-379a-42fb-b619-6bdfb64e4007"
   },
   "outputs": [],
   "source": [
    "# Import necessary modules:\n",
    "import gdown\n",
    "import os\n",
    "\n",
    "# Mount your Google Drive for local file access. \n",
    "# This allows saving files, e.g., trained model files, into your Google Drive (optional):\n",
    "#from google.colab import drive\n",
    "#drive.mount('/content/drive')\n",
    "\n",
    "# Obtain the dataset using its dowloadable public Google Drive link and unzip it. \n",
    "# This is a good website for generating dowloadable links for Google Drive files:\n",
    "# https://sites.google.com/site/gdocs2direct/home\n",
    "\n",
    "fileURL = 'https://drive.google.com/uc?export=download&id=11STs84PFHXdfZm-VhvRoM8AnxotIdbIu'\n",
    "fileOut = 'dataset.zip'\n",
    "gdown.download(fileURL, fileOut, quiet=False)\n",
    "\n",
    "!unzip dataset.zip -d dataset\n"
   ]
  },
  {
   "cell_type": "code",
   "execution_count": null,
   "metadata": {
    "colab": {
     "base_uri": "https://localhost:8080/"
    },
    "executionInfo": {
     "elapsed": 182,
     "status": "ok",
     "timestamp": 1628318080786,
     "user": {
      "displayName": "Yunhui Guo",
      "photoUrl": "",
      "userId": "05876241955475361353"
     },
     "user_tz": 420
    },
    "id": "xyvQxCUMMI78",
    "outputId": "acf5124d-3160-4d5e-e80d-797dc2e7d98a"
   },
   "outputs": [],
   "source": [
    "# Show the contents of the dataset folder\n",
    "os.listdir('dataset')"
   ]
  },
  {
   "cell_type": "markdown",
   "metadata": {
    "id": "JGq2ySFhMI78"
   },
   "source": [
    "Import necessary modules of Pytorch"
   ]
  },
  {
   "cell_type": "code",
   "execution_count": null,
   "metadata": {
    "colab": {
     "base_uri": "https://localhost:8080/"
    },
    "executionInfo": {
     "elapsed": 163,
     "status": "ok",
     "timestamp": 1628318399499,
     "user": {
      "displayName": "Yunhui Guo",
      "photoUrl": "",
      "userId": "05876241955475361353"
     },
     "user_tz": 420
    },
    "id": "hCs8RSJVaFgh",
    "outputId": "df61d55a-84fe-4984-d593-0cf3ddd7b6be"
   },
   "outputs": [],
   "source": [
    "import torch\n",
    "import torchvision\n",
    "from torchvision import transforms\n",
    "\n",
    "print(torch.cuda.is_available())"
   ]
  },
  {
   "cell_type": "code",
   "execution_count": null,
   "metadata": {
    "id": "owlxPI4aay4d"
   },
   "outputs": [],
   "source": []
  },
  {
   "cell_type": "markdown",
   "metadata": {
    "id": "mGqq7RcSaFgg"
   },
   "source": [
    "## Roof-type classification with pre-trained ResNet and tranformer"
   ]
  },
  {
   "cell_type": "markdown",
   "metadata": {
    "id": "jAly4ZYLaFgi"
   },
   "source": [
    "Set random seed"
   ]
  },
  {
   "cell_type": "code",
   "execution_count": null,
   "metadata": {
    "colab": {
     "base_uri": "https://localhost:8080/"
    },
    "executionInfo": {
     "elapsed": 156,
     "status": "ok",
     "timestamp": 1628318401828,
     "user": {
      "displayName": "Yunhui Guo",
      "photoUrl": "",
      "userId": "05876241955475361353"
     },
     "user_tz": 420
    },
    "id": "UHJc6bHxaFgi",
    "outputId": "edfb9f82-faed-435c-a334-cc26f9728384"
   },
   "outputs": [],
   "source": [
    "random_seed = 9999\n",
    "torch.backends.cudnn.enabled = False\n",
    "torch.manual_seed(random_seed)"
   ]
  },
  {
   "cell_type": "markdown",
   "metadata": {
    "id": "szJOlJJmaFgj"
   },
   "source": [
    "Load the dataset using Pytorch API. "
   ]
  },
  {
   "cell_type": "code",
   "execution_count": null,
   "metadata": {
    "colab": {
     "base_uri": "https://localhost:8080/"
    },
    "executionInfo": {
     "elapsed": 150,
     "status": "ok",
     "timestamp": 1628318403614,
     "user": {
      "displayName": "Yunhui Guo",
      "photoUrl": "",
      "userId": "05876241955475361353"
     },
     "user_tz": 420
    },
    "id": "WQvQtnLwaFgk",
    "outputId": "9a544d52-b444-4f64-f9ce-af407343d844"
   },
   "outputs": [],
   "source": [
    "batch_size_train = 64\n",
    "batch_size_test = 1000\n",
    "\n",
    "def get_transform():\n",
    "\n",
    "    normalize = transforms.Normalize(mean=[0.485, 0.456, 0.406],\n",
    "                                     std=[0.229, 0.224, 0.225])\n",
    "\n",
    "    train_transforms = [\n",
    "        transforms.RandomResizedCrop(224, scale=(0.7, 1.)),\n",
    "        transforms.RandomGrayscale(p=0.5),\n",
    "        transforms.ColorJitter(0.5, 0.5, 0.5, 0.5),\n",
    "        transforms.RandomHorizontalFlip(),\n",
    "        transforms.RandomVerticalFlip(),\n",
    "        transforms.ToTensor(),\n",
    "        normalize]\n",
    "\n",
    "    train_transforms = transforms.Compose(train_transforms)\n",
    "\n",
    "    val_transforms = [transforms.Resize((224, 224)),\n",
    "        transforms.ToTensor(),\n",
    "        normalize]\n",
    "\n",
    "    val_transforms = transforms.Compose(val_transforms)\n",
    "\n",
    "    return train_transforms, val_transforms\n",
    "\n",
    "\n",
    "def Get_RoofTypeImages(transforms, mode = 'train'):\n",
    "\n",
    "    if mode == 'train':\n",
    "\n",
    "        root_dir = \"./dataset/roof_type/Roof_Training_Images_V1/\"\n",
    "\n",
    "    else:\n",
    "\n",
    "        root_dir = \"./dataset/roof_type/satellite-images-val/\"\n",
    "        \n",
    "    data = torchvision.datasets.ImageFolder(root=root_dir, transform=transforms)\n",
    "\n",
    "    return data\n",
    "\n",
    "\n",
    "\n",
    "train_transforms, val_transforms = get_transform()\n",
    "\n",
    "\n",
    "train_dataset =  Get_RoofTypeImages(train_transforms, 'train')\n",
    "\n",
    "print (len(train_dataset))\n",
    "\n",
    "train_loader = torch.utils.data.DataLoader(train_dataset, batch_size = batch_size_train, shuffle=True, num_workers=2)\n",
    "\n",
    "\n",
    "val_dataset =  Get_RoofTypeImages(val_transforms, 'val')\n",
    "\n",
    "print (len(val_dataset))\n",
    "\n",
    "test_loader = torch.utils.data.DataLoader(val_dataset, batch_size = batch_size_test, shuffle=False, num_workers=2)\n"
   ]
  },
  {
   "cell_type": "markdown",
   "metadata": {
    "id": "z9PDd_WYaFgl"
   },
   "source": [
    "Let's show some example images."
   ]
  },
  {
   "cell_type": "code",
   "execution_count": null,
   "metadata": {
    "executionInfo": {
     "elapsed": 735,
     "status": "ok",
     "timestamp": 1628318407268,
     "user": {
      "displayName": "Yunhui Guo",
      "photoUrl": "",
      "userId": "05876241955475361353"
     },
     "user_tz": 420
    },
    "id": "eQPcyRjLaFgl"
   },
   "outputs": [],
   "source": [
    "examples = enumerate(test_loader)\n",
    "batch_idx, (example_data, example_targets) = next(examples)"
   ]
  },
  {
   "cell_type": "code",
   "execution_count": null,
   "metadata": {
    "colab": {
     "base_uri": "https://localhost:8080/",
     "height": 289
    },
    "executionInfo": {
     "elapsed": 1526,
     "status": "ok",
     "timestamp": 1628318410106,
     "user": {
      "displayName": "Yunhui Guo",
      "photoUrl": "",
      "userId": "05876241955475361353"
     },
     "user_tz": 420
    },
    "id": "wUaqpDRcaFgl",
    "outputId": "95a7c60a-41c0-4263-c9a7-4b2947673eff"
   },
   "outputs": [],
   "source": [
    "import matplotlib.pyplot as plt\n",
    "\n",
    "\n",
    "fig = plt.figure(figsize = (20,10))\n",
    "\n",
    "for i in range(5):\n",
    "  plt.subplot(1,5,i+1)\n",
    "  plt.tight_layout()\n",
    "  plt.imshow(example_data[i][0].numpy())\n",
    "  plt.xticks([])\n",
    "  plt.yticks([])"
   ]
  },
  {
   "cell_type": "code",
   "execution_count": null,
   "metadata": {
    "executionInfo": {
     "elapsed": 153,
     "status": "ok",
     "timestamp": 1628318411688,
     "user": {
      "displayName": "Yunhui Guo",
      "photoUrl": "",
      "userId": "05876241955475361353"
     },
     "user_tz": 420
    },
    "id": "HU5lZ6IqaFgm"
   },
   "outputs": [],
   "source": [
    "import torch.nn as nn\n",
    "import torch.nn.functional as F\n",
    "import torch.optim as optim"
   ]
  },
  {
   "cell_type": "markdown",
   "metadata": {
    "id": "Q5BjCyysaFgm"
   },
   "source": [
    "In the first experiment, use a pretrained ResNet18 with Pytorch and train the model for one epoch. In the second experiment, use a pretrained transformer (\"vit_tiny_patch16_224\"), you may need to pip install timm to load pretrained transformers. "
   ]
  },
  {
   "cell_type": "code",
   "execution_count": null,
   "metadata": {
    "colab": {
     "base_uri": "https://localhost:8080/"
    },
    "executionInfo": {
     "elapsed": 2856,
     "status": "ok",
     "timestamp": 1628318416326,
     "user": {
      "displayName": "Yunhui Guo",
      "photoUrl": "",
      "userId": "05876241955475361353"
     },
     "user_tz": 420
    },
    "id": "Gjkoisj2aFgn",
    "outputId": "073deebc-a0ce-4207-aaa5-d888b0253c03"
   },
   "outputs": [],
   "source": [
    "### your code goes here\n",
    "\n",
    "# Load the pretrained model using torchvision.models\n",
    "\n",
    "\n",
    "# Get the dimension of the input for the last layer\n",
    "\n",
    "\n",
    "# Change the number of classes to 3\n",
    "\n",
    "\n",
    "\n",
    "print (network)"
   ]
  },
  {
   "cell_type": "markdown",
   "metadata": {
    "id": "gcuhyml6aFgn"
   },
   "source": [
    "For training the network, we need to specify the optimizer. "
   ]
  },
  {
   "cell_type": "code",
   "execution_count": null,
   "metadata": {
    "executionInfo": {
     "elapsed": 148,
     "status": "ok",
     "timestamp": 1628318419797,
     "user": {
      "displayName": "Yunhui Guo",
      "photoUrl": "",
      "userId": "05876241955475361353"
     },
     "user_tz": 420
    },
    "id": "QzrRPRtraFgn"
   },
   "outputs": [],
   "source": [
    "n_epochs = 1\n",
    "learning_rate = 0.01\n",
    "momentum = 0.9\n",
    "log_interval = 10\n",
    "\n",
    "optimizer = optim.SGD(network.parameters(), lr=learning_rate,\n",
    "                      momentum=momentum)\n"
   ]
  },
  {
   "cell_type": "code",
   "execution_count": null,
   "metadata": {
    "executionInfo": {
     "elapsed": 183,
     "status": "ok",
     "timestamp": 1628318423316,
     "user": {
      "displayName": "Yunhui Guo",
      "photoUrl": "",
      "userId": "05876241955475361353"
     },
     "user_tz": 420
    },
    "id": "tTb4unIUaFgn"
   },
   "outputs": [],
   "source": [
    "train_losses = []\n",
    "test_losses = []"
   ]
  },
  {
   "cell_type": "code",
   "execution_count": null,
   "metadata": {
    "executionInfo": {
     "elapsed": 244,
     "status": "ok",
     "timestamp": 1628318424843,
     "user": {
      "displayName": "Yunhui Guo",
      "photoUrl": "",
      "userId": "05876241955475361353"
     },
     "user_tz": 420
    },
    "id": "sj46FHLMaFgo"
   },
   "outputs": [],
   "source": [
    "def train(epoch):\n",
    "  network.train()\n",
    "   \n",
    "  train_loss = 0\n",
    "\n",
    "  for batch_idx, (data, target) in enumerate(train_loader):\n",
    "    optimizer.zero_grad()\n",
    "    \n",
    "    output = network(data)\n",
    "    \n",
    "    loss = F.cross_entropy(output, target)\n",
    "    \n",
    "    train_loss += loss.item()\n",
    "    \n",
    "    loss.backward()\n",
    "    \n",
    "    optimizer.step()\n",
    "    \n",
    "    if batch_idx % log_interval == 0:\n",
    "      print('Train Epoch: {} [{}/{} ({:.0f}%)]\\tLoss: {:.6f}'.format(\n",
    "        epoch, batch_idx * len(data), len(train_loader.dataset),\n",
    "        100. * batch_idx / len(train_loader), loss.item()))\n",
    "  \n",
    "\n",
    "  train_loss /= len(train_loader.dataset)\n",
    "  train_losses.append(train_loss)\n",
    "        "
   ]
  },
  {
   "cell_type": "code",
   "execution_count": null,
   "metadata": {
    "executionInfo": {
     "elapsed": 537,
     "status": "ok",
     "timestamp": 1628318427335,
     "user": {
      "displayName": "Yunhui Guo",
      "photoUrl": "",
      "userId": "05876241955475361353"
     },
     "user_tz": 420
    },
    "id": "oe02zIUVaFgo"
   },
   "outputs": [],
   "source": [
    "from sklearn.metrics import confusion_matrix\n",
    "import matplotlib.pyplot as plt\n",
    "import pandas as pd\n",
    "import seaborn as sn\n",
    "\n",
    "def test():\n",
    "  network.eval()\n",
    "\n",
    "  test_loss = 0\n",
    "  correct = 0\n",
    "\n",
    "\n",
    "  predictions = []\n",
    "  ground_truths = []\n",
    "\n",
    "  with torch.no_grad():\n",
    "    for data, target in test_loader:\n",
    "      output = network(data)\n",
    "      test_loss += F.cross_entropy(output, target, size_average=False).item()\n",
    "      pred = output.data.max(1, keepdim=True)[1]\n",
    "      correct += pred.eq(target.data.view_as(pred)).sum()\n",
    "\n",
    "      predictions.extend(pred.detach().cpu().tolist())  # Should do the detach internally\n",
    "      ground_truths.extend(target.detach().cpu().tolist())\n",
    "\n",
    "  test_loss /= len(test_loader.dataset)\n",
    "  test_losses.append(test_loss)\n",
    "\n",
    "  print('\\nTest set: Avg. loss: {:.4f}, Accuracy: {}/{} ({:.0f}%)\\n'.format(\n",
    "    test_loss, correct, len(test_loader.dataset),\n",
    "    100. * correct / len(test_loader.dataset)))\n",
    "  \n",
    "\n",
    "  cf = confusion_matrix(ground_truths, predictions)\n",
    "\n",
    "  fig = plt.figure()\n",
    "  ax = fig.add_subplot(111)\n",
    "\n",
    "  df_cm = pd.DataFrame(cf, range(3), range(3))\n",
    "  print (df_cm)\n",
    "\n",
    "  #sn.set(font_scale=1.4) # for label size\n",
    "  sn.heatmap(df_cm, annot=True, cmap='Blues', annot_kws={\"size\": 10}, fmt='g') # font size\n",
    "\n",
    "  plt.xlabel(\"Class Index\", fontsize=14)\n",
    "  plt.ylabel(\"Class Index\", fontsize=14)\n",
    "  plt.title(\" Confusion matrix\", fontsize=16)\n",
    "  ax.tick_params(axis='x', colors='red')\n",
    "  ax.tick_params(axis='y', colors='red')\n",
    "\n",
    "\n",
    "  plt.show()"
   ]
  },
  {
   "cell_type": "code",
   "execution_count": null,
   "metadata": {
    "colab": {
     "base_uri": "https://localhost:8080/",
     "height": 624
    },
    "executionInfo": {
     "elapsed": 747973,
     "status": "ok",
     "timestamp": 1628319177918,
     "user": {
      "displayName": "Yunhui Guo",
      "photoUrl": "",
      "userId": "05876241955475361353"
     },
     "user_tz": 420
    },
    "id": "21VBw8K5aFgo",
    "outputId": "13525f03-0a8d-4e98-fbe7-0e9d21ea27de"
   },
   "outputs": [],
   "source": [
    "for epoch in range(1, n_epochs + 1):\n",
    "  \n",
    "  train(epoch)\n",
    "  test()"
   ]
  }
 ],
 "metadata": {
  "accelerator": "GPU",
  "colab": {
   "collapsed_sections": [],
   "name": "exercise2.ipynb",
   "provenance": []
  },
  "kernelspec": {
   "display_name": "Python 3",
   "language": "python",
   "name": "python3"
  },
  "language_info": {
   "codemirror_mode": {
    "name": "ipython",
    "version": 3
   },
   "file_extension": ".py",
   "mimetype": "text/x-python",
   "name": "python",
   "nbconvert_exporter": "python",
   "pygments_lexer": "ipython3",
   "version": "3.6.13"
  }
 },
 "nbformat": 4,
 "nbformat_minor": 1
}
