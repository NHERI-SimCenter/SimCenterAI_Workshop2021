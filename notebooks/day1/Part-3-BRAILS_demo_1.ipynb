{
 "cells": [
  {
   "cell_type": "markdown",
   "metadata": {
    "id": "WF-uzSB0S2wn"
   },
   "source": [
    "<table class=\"tfo-notebook-buttons\" align=\"left\">\n",
    "\n",
    "  <td>\n",
    "    <a target=\"_blank\" href=\"https://colab.research.google.com/drive/1zspDwK-rGA1gYcHZDnrQr_3Z27JL-ooS?usp=sharing\"><img src=\"https://www.tensorflow.org/images/colab_logo_32px.png\" />Run in Google Colab</a>\n",
    "  </td>\n",
    "\n",
    "</table>"
   ]
  },
  {
   "cell_type": "markdown",
   "metadata": {
    "id": "50npJGAfibPu"
   },
   "source": [
    "### Install BRAILS"
   ]
  },
  {
   "cell_type": "code",
   "execution_count": null,
   "metadata": {
    "id": "wVi64jmJO4W-"
   },
   "outputs": [],
   "source": [
    "!pip install BRAILS"
   ]
  },
  {
   "cell_type": "markdown",
   "metadata": {
    "id": "raeCzQbdH5W1"
   },
   "source": [
    "Possible errors (can be ignored):\n",
    "\n",
    "ERROR: osmnx 1.0.1 has requirement matplotlib>=3.3, but you'll have matplotlib 3.2.2 which is incompatible.\n",
    "\n",
    "ERROR: osmnx 1.0.1 has requirement requests>=2.25, but you'll have requests 2.23.0 which is incompatible.\n",
    "\n",
    "google-colab 1.0.0 requires requests~=2.23.0, but you have requests 2.26.0 which is incompatible.\n",
    "\n",
    "datascience 0.10.6 requires folium==0.2.1, but you have folium 0.8.3 which is incompatible.\n",
    "\n",
    "albumentations 0.1.12 requires imgaug<0.2.7,>=0.2.5, but you have imgaug 0.2.9 which is incompatible."
   ]
  },
  {
   "cell_type": "code",
   "execution_count": null,
   "metadata": {
    "id": "hQbqMQXrcU2E"
   },
   "outputs": [],
   "source": [
    "# update pytorch with cuda11.0. \n",
    "# This is required only if you have GPU and want to get 'year', 'elevated' \n",
    "#!pip install torch==1.7.1+cu110 torchvision==0.8.2+cu110 torchaudio===0.7.2 -f https://download.pytorch.org/whl/torch_stable.html"
   ]
  },
  {
   "cell_type": "markdown",
   "metadata": {
    "id": "s9P6mI83aMx6"
   },
   "source": [
    "Updates(03/10/2021): No need to manually update cuda, the default environment here is ok."
   ]
  },
  {
   "cell_type": "markdown",
   "metadata": {
    "id": "i8Tge8AkiUBE"
   },
   "source": [
    "### Download image examples"
   ]
  },
  {
   "cell_type": "code",
   "execution_count": null,
   "metadata": {
    "id": "BI_Dd6jVdgOV"
   },
   "outputs": [],
   "source": [
    "!wget -nc https://zenodo.org/record/4095668/files/image_examples.zip\n",
    "!unzip -n image_examples.zip"
   ]
  },
  {
   "cell_type": "markdown",
   "metadata": {
    "id": "wlQcJJUrip8h"
   },
   "source": [
    "### Run examples"
   ]
  },
  {
   "cell_type": "code",
   "execution_count": null,
   "metadata": {
    "colab": {
     "base_uri": "https://localhost:8080/"
    },
    "id": "V-e_5B0iUn2e",
    "outputId": "3d5aab57-479a-4548-f3cd-a82fceef62d8"
   },
   "outputs": [
    {
     "name": "stdout",
     "output_type": "stream",
     "text": [
      "A default roof type model will be used: rooftype_ResNet50_V0.2.\n",
      "Downloading the model ...\n",
      "Model found locally: tmp/rooftype_ResNet50_V0.2.h5 \n",
      "A default occupancy model will be used: occupancy_ResNet50_V0.2.\n",
      "Downloading the model ...\n",
      "Model found locally: tmp/occupancy_ResNet50_V0.2.h5 \n",
      "A default softstory model will be used: softstory_ResNet50_V0.1.\n",
      "Downloading the model ...\n",
      "Model found locally: tmp/softstory_ResNet50_V0.1.h5 \n"
     ]
    }
   ],
   "source": [
    "# Import modules\n",
    "from brails.modules import RoofClassifier, OccupancyClassifier, SoftstoryClassifier\n",
    "\n",
    "# Initialize a roof classifier\n",
    "roofModel = RoofClassifier()\n",
    "\n",
    "# Initialize an occupancy classifier\n",
    "occupancyModel = OccupancyClassifier()\n",
    "\n",
    "# Initialize a soft-story classifier\n",
    "ssModel = SoftstoryClassifier()\n",
    "\n"
   ]
  },
  {
   "cell_type": "code",
   "execution_count": null,
   "metadata": {
    "colab": {
     "base_uri": "https://localhost:8080/"
    },
    "id": "ZRVlHZUlWeCg",
    "outputId": "aa0ac5fe-5c03-4887-fa9f-5a89f86dc645"
   },
   "outputs": [
    {
     "name": "stdout",
     "output_type": "stream",
     "text": [
      "Image :  image_examples/Roof/gabled/76.png     Class : gabled (99.99%)\n",
      "Image :  image_examples/Roof/hipped/54.png     Class : hipped (100.0%)\n",
      "Image :  image_examples/Roof/flat/94.png     Class : flat (99.64%)\n",
      "Results written in file tmp/roofType_preds.csv\n"
     ]
    }
   ],
   "source": [
    "# Use the roof classifier \n",
    "\n",
    "imgs = ['image_examples/Roof/gabled/76.png',\n",
    "        'image_examples/Roof/hipped/54.png',\n",
    "        'image_examples/Roof/flat/94.png']\n",
    "\n",
    "predictions = roofModel.predict(imgs)"
   ]
  },
  {
   "cell_type": "code",
   "execution_count": null,
   "metadata": {
    "colab": {
     "base_uri": "https://localhost:8080/"
    },
    "id": "E3Mku_1Nds_s",
    "outputId": "77c57bc6-7fcc-425e-c9ff-2edd38aa8297"
   },
   "outputs": [
    {
     "name": "stdout",
     "output_type": "stream",
     "text": [
      "Image :  image_examples/Occupancy/RES1/51563.png     Class : RES1 (99.78%)\n",
      "Image :  image_examples/Occupancy/RES3/65883.png     Class : COM (91.65%)\n",
      "Results written in file tmp/occupancy_preds.csv\n"
     ]
    }
   ],
   "source": [
    "# Use the occupancy classifier \n",
    "\n",
    "imgs = ['image_examples/Occupancy/RES1/51563.png',\n",
    "        'image_examples/Occupancy/RES3/65883.png']\n",
    "\n",
    "predictions = occupancyModel.predict(imgs)"
   ]
  },
  {
   "cell_type": "code",
   "execution_count": null,
   "metadata": {
    "colab": {
     "base_uri": "https://localhost:8080/"
    },
    "id": "Ui5fsXJJdx2u",
    "outputId": "5eeb278f-b740-442a-f36d-97bf5647677e"
   },
   "outputs": [
    {
     "name": "stdout",
     "output_type": "stream",
     "text": [
      "Image :  image_examples/Softstory/Others/3110.jpg     Class : others (100.0%)\n",
      "Image :  image_examples/Softstory/Softstory/901.jpg     Class : softstory (100.0%)\n",
      "Results written in file tmp/softstory_preds.csv\n"
     ]
    }
   ],
   "source": [
    "# Use the softstory classifier \n",
    "\n",
    "imgs = ['image_examples/Softstory/Others/3110.jpg',\n",
    "        'image_examples/Softstory/Softstory/901.jpg']\n",
    "\n",
    "predictions = ssModel.predict(imgs)\n"
   ]
  },
  {
   "cell_type": "markdown",
   "metadata": {
    "id": "BFLvFOZhcORs"
   },
   "source": [
    "### Re-train an existing model"
   ]
  },
  {
   "cell_type": "code",
   "execution_count": null,
   "metadata": {
    "id": "Zp9Pk6mQb9Wo"
   },
   "outputs": [],
   "source": [
    "# Here is a dataset prepared by SimCenter. You can use your own images. \n",
    "!wget https://zenodo.org/record/3521067/files/Roof_Training_Images_V1.zip\n",
    "!unzip Roof_Training_Images_V1.zip"
   ]
  },
  {
   "cell_type": "code",
   "execution_count": null,
   "metadata": {
    "colab": {
     "base_uri": "https://localhost:8080/"
    },
    "id": "465pj5RocCRj",
    "outputId": "f068fad0-57e4-48d1-8f70-8df1c77f683f"
   },
   "outputs": [
    {
     "name": "stdout",
     "output_type": "stream",
     "text": [
      "Found 6000 files belonging to 3 classes.\n",
      "Using 1200 files for training.\n",
      "Found 6000 files belonging to 3 classes.\n",
      "Using 1200 files for validation.\n",
      "The names of the classes are:  ['flat', 'gabled', 'hipped']\n"
     ]
    }
   ],
   "source": [
    "roofModel.loadData('Roof_Training_Images_V1')"
   ]
  },
  {
   "cell_type": "code",
   "execution_count": null,
   "metadata": {
    "id": "4Pu8ktqscEsM"
   },
   "outputs": [],
   "source": [
    "# Re-train it for only 1 epoch for this demo. You can increase it.\n",
    "roofModel.retrain(initial_epochs=1)"
   ]
  },
  {
   "cell_type": "code",
   "execution_count": null,
   "metadata": {
    "colab": {
     "base_uri": "https://localhost:8080/"
    },
    "id": "tYJEy8tcdSzh",
    "outputId": "2edf4637-af00-4888-eb67-516decacb80a"
   },
   "outputs": [
    {
     "name": "stdout",
     "output_type": "stream",
     "text": [
      "Image :  image_examples/Softstory/Others/3110.jpg     Class : flat (99.84%)\n",
      "Image :  image_examples/Softstory/Softstory/901.jpg     Class : flat (99.45%)\n",
      "Results written in file roofType_preds.csv\n"
     ]
    }
   ],
   "source": [
    "# Test the re-trained model\n",
    "predictions = roofModel.predict(imgs)"
   ]
  },
  {
   "cell_type": "code",
   "execution_count": null,
   "metadata": {
    "colab": {
     "base_uri": "https://localhost:8080/"
    },
    "id": "N2MWGfxpdXY-",
    "outputId": "b33c624e-196e-4aaf-b930-30602aca0f79"
   },
   "outputs": [
    {
     "name": "stdout",
     "output_type": "stream",
     "text": [
      "Model saved at  tmp/myCoolNewModelv0.1.h5\n"
     ]
    }
   ],
   "source": [
    "# Save the re-trained model\n",
    "roofModel.save('myCoolNewModelv0.1')"
   ]
  }
 ],
 "metadata": {
  "accelerator": "GPU",
  "colab": {
   "collapsed_sections": [],
   "name": "BRAILS-demo-1.ipynb",
   "provenance": []
  },
  "kernelspec": {
   "display_name": "Python 3",
   "language": "python",
   "name": "python3"
  },
  "language_info": {
   "codemirror_mode": {
    "name": "ipython",
    "version": 3
   },
   "file_extension": ".py",
   "mimetype": "text/x-python",
   "name": "python",
   "nbconvert_exporter": "python",
   "pygments_lexer": "ipython3",
   "version": "3.8.2"
  }
 },
 "nbformat": 4,
 "nbformat_minor": 4
}
