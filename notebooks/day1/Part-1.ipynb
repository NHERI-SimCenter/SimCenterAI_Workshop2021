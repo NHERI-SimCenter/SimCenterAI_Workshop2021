{
 "cells": [
  {
   "cell_type": "code",
   "execution_count": 1,
   "metadata": {
    "_cell_guid": "79c7e3d0-c299-4dcb-8224-4455121ee9b0",
    "_uuid": "d629ff2d2480ee46fbb7e2d37f6b5fab8052498a"
   },
   "outputs": [],
   "source": [
    "import numpy as np\n",
    "import pandas as pd\n",
    "import seaborn as sns\n",
    "from sklearn.model_selection import train_test_split"
   ]
  },
  {
   "cell_type": "markdown",
   "metadata": {},
   "source": [
    "## 1. Load data"
   ]
  },
  {
   "cell_type": "code",
   "execution_count": 2,
   "metadata": {},
   "outputs": [
    {
     "data": {
      "text/html": [
       "<div>\n",
       "<style scoped>\n",
       "    .dataframe tbody tr th:only-of-type {\n",
       "        vertical-align: middle;\n",
       "    }\n",
       "\n",
       "    .dataframe tbody tr th {\n",
       "        vertical-align: top;\n",
       "    }\n",
       "\n",
       "    .dataframe thead th {\n",
       "        text-align: right;\n",
       "    }\n",
       "</style>\n",
       "<table border=\"1\" class=\"dataframe\">\n",
       "  <thead>\n",
       "    <tr style=\"text-align: right;\">\n",
       "      <th></th>\n",
       "      <th>overall_building_condition</th>\n",
       "      <th>max_mph</th>\n",
       "      <th>age_yrs</th>\n",
       "      <th>number_of_stories</th>\n",
       "      <th>roof_shape</th>\n",
       "      <th>roof_cover</th>\n",
       "      <th>wall_cladding</th>\n",
       "      <th>structural_framing_system</th>\n",
       "    </tr>\n",
       "  </thead>\n",
       "  <tbody>\n",
       "    <tr>\n",
       "      <th>0</th>\n",
       "      <td>0</td>\n",
       "      <td>80</td>\n",
       "      <td>14.0</td>\n",
       "      <td>1.0</td>\n",
       "      <td>Complex</td>\n",
       "      <td>Tile (clay)</td>\n",
       "      <td>Stucco</td>\n",
       "      <td>Wood-frame</td>\n",
       "    </tr>\n",
       "    <tr>\n",
       "      <th>1</th>\n",
       "      <td>1</td>\n",
       "      <td>80</td>\n",
       "      <td>29.0</td>\n",
       "      <td>2.0</td>\n",
       "      <td>Gable</td>\n",
       "      <td>Tile (clay)</td>\n",
       "      <td>Stucco</td>\n",
       "      <td>Wood-frame</td>\n",
       "    </tr>\n",
       "    <tr>\n",
       "      <th>2</th>\n",
       "      <td>0</td>\n",
       "      <td>85</td>\n",
       "      <td>27.0</td>\n",
       "      <td>2.0</td>\n",
       "      <td>Complex</td>\n",
       "      <td>Tile (clay)</td>\n",
       "      <td>Stucco</td>\n",
       "      <td>Wood-frame</td>\n",
       "    </tr>\n",
       "    <tr>\n",
       "      <th>3</th>\n",
       "      <td>1</td>\n",
       "      <td>85</td>\n",
       "      <td>24.0</td>\n",
       "      <td>1.0</td>\n",
       "      <td>Hip</td>\n",
       "      <td>Asphalt shingles (laminated)</td>\n",
       "      <td>Stucco</td>\n",
       "      <td>Wood-frame</td>\n",
       "    </tr>\n",
       "    <tr>\n",
       "      <th>4</th>\n",
       "      <td>1</td>\n",
       "      <td>85</td>\n",
       "      <td>30.0</td>\n",
       "      <td>2.0</td>\n",
       "      <td>Gable</td>\n",
       "      <td>Asphalt shingles (laminated)</td>\n",
       "      <td>Wood Siding</td>\n",
       "      <td>Wood-frame</td>\n",
       "    </tr>\n",
       "    <tr>\n",
       "      <th>...</th>\n",
       "      <td>...</td>\n",
       "      <td>...</td>\n",
       "      <td>...</td>\n",
       "      <td>...</td>\n",
       "      <td>...</td>\n",
       "      <td>...</td>\n",
       "      <td>...</td>\n",
       "      <td>...</td>\n",
       "    </tr>\n",
       "    <tr>\n",
       "      <th>921</th>\n",
       "      <td>1</td>\n",
       "      <td>95</td>\n",
       "      <td>40.0</td>\n",
       "      <td>1.0</td>\n",
       "      <td>Gambrel</td>\n",
       "      <td>Asphalt shingles (3-tab)</td>\n",
       "      <td>Wood Siding</td>\n",
       "      <td>Wood-frame</td>\n",
       "    </tr>\n",
       "    <tr>\n",
       "      <th>922</th>\n",
       "      <td>1</td>\n",
       "      <td>90</td>\n",
       "      <td>38.0</td>\n",
       "      <td>1.0</td>\n",
       "      <td>Gable</td>\n",
       "      <td>Asphalt shingles (3-tab)</td>\n",
       "      <td>Wood Siding</td>\n",
       "      <td>Wood-frame</td>\n",
       "    </tr>\n",
       "    <tr>\n",
       "      <th>923</th>\n",
       "      <td>1</td>\n",
       "      <td>105</td>\n",
       "      <td>22.0</td>\n",
       "      <td>2.0</td>\n",
       "      <td>Gable</td>\n",
       "      <td>Asphalt shingles (3-tab)</td>\n",
       "      <td>Vinyl Siding</td>\n",
       "      <td>Wood-frame</td>\n",
       "    </tr>\n",
       "    <tr>\n",
       "      <th>924</th>\n",
       "      <td>0</td>\n",
       "      <td>100</td>\n",
       "      <td>16.0</td>\n",
       "      <td>1.0</td>\n",
       "      <td>Hip</td>\n",
       "      <td>Asphalt shingles (3-tab)</td>\n",
       "      <td>Stucco</td>\n",
       "      <td>Wood-frame</td>\n",
       "    </tr>\n",
       "    <tr>\n",
       "      <th>925</th>\n",
       "      <td>2</td>\n",
       "      <td>105</td>\n",
       "      <td>50.0</td>\n",
       "      <td>2.0</td>\n",
       "      <td>Gable</td>\n",
       "      <td>Asphalt shingles (3-tab)</td>\n",
       "      <td>Wood Siding</td>\n",
       "      <td>Wood-frame</td>\n",
       "    </tr>\n",
       "  </tbody>\n",
       "</table>\n",
       "<p>926 rows × 8 columns</p>\n",
       "</div>"
      ],
      "text/plain": [
       "     overall_building_condition  max_mph  age_yrs  number_of_stories  \\\n",
       "0                             0       80     14.0                1.0   \n",
       "1                             1       80     29.0                2.0   \n",
       "2                             0       85     27.0                2.0   \n",
       "3                             1       85     24.0                1.0   \n",
       "4                             1       85     30.0                2.0   \n",
       "..                          ...      ...      ...                ...   \n",
       "921                           1       95     40.0                1.0   \n",
       "922                           1       90     38.0                1.0   \n",
       "923                           1      105     22.0                2.0   \n",
       "924                           0      100     16.0                1.0   \n",
       "925                           2      105     50.0                2.0   \n",
       "\n",
       "    roof_shape                    roof_cover wall_cladding  \\\n",
       "0      Complex                   Tile (clay)        Stucco   \n",
       "1        Gable                   Tile (clay)        Stucco   \n",
       "2      Complex                   Tile (clay)        Stucco   \n",
       "3          Hip  Asphalt shingles (laminated)        Stucco   \n",
       "4        Gable  Asphalt shingles (laminated)   Wood Siding   \n",
       "..         ...                           ...           ...   \n",
       "921    Gambrel      Asphalt shingles (3-tab)   Wood Siding   \n",
       "922      Gable      Asphalt shingles (3-tab)   Wood Siding   \n",
       "923      Gable      Asphalt shingles (3-tab)  Vinyl Siding   \n",
       "924        Hip      Asphalt shingles (3-tab)        Stucco   \n",
       "925      Gable      Asphalt shingles (3-tab)   Wood Siding   \n",
       "\n",
       "    structural_framing_system  \n",
       "0                  Wood-frame  \n",
       "1                  Wood-frame  \n",
       "2                  Wood-frame  \n",
       "3                  Wood-frame  \n",
       "4                  Wood-frame  \n",
       "..                        ...  \n",
       "921                Wood-frame  \n",
       "922                Wood-frame  \n",
       "923                Wood-frame  \n",
       "924                Wood-frame  \n",
       "925                Wood-frame  \n",
       "\n",
       "[926 rows x 8 columns]"
      ]
     },
     "execution_count": 2,
     "metadata": {},
     "output_type": "execute_result"
    }
   ],
   "source": [
    "# Read data into a pandas dataframe\n",
    "all_data = pd.read_csv(\"Building_in_Hurricane.csv\")\n",
    "all_data"
   ]
  },
  {
   "cell_type": "markdown",
   "metadata": {},
   "source": [
    "## 2. Data preprocessing\n",
    "### Prepare input and output data"
   ]
  },
  {
   "cell_type": "code",
   "execution_count": 3,
   "metadata": {},
   "outputs": [
    {
     "name": "stdout",
     "output_type": "stream",
     "text": [
      "X shape:  (926, 7)\n",
      "X:  [[80 14.0 1.0 ... 'Tile (clay)' 'Stucco' 'Wood-frame']\n",
      " [80 29.0 2.0 ... 'Tile (clay)' 'Stucco' 'Wood-frame']\n",
      " [85 27.0 2.0 ... 'Tile (clay)' 'Stucco' 'Wood-frame']\n",
      " ...\n",
      " [105 22.0 2.0 ... 'Asphalt shingles (3-tab)' 'Vinyl Siding' 'Wood-frame']\n",
      " [100 16.0 1.0 ... 'Asphalt shingles (3-tab)' 'Stucco' 'Wood-frame']\n",
      " [105 50.0 2.0 ... 'Asphalt shingles (3-tab)' 'Wood Siding' 'Wood-frame']]\n",
      "y shape:  (926,)\n",
      "Y:  0      0\n",
      "1      1\n",
      "2      0\n",
      "3      1\n",
      "4      1\n",
      "      ..\n",
      "921    1\n",
      "922    1\n",
      "923    1\n",
      "924    0\n",
      "925    2\n",
      "Name: overall_building_condition, Length: 926, dtype: int64\n"
     ]
    }
   ],
   "source": [
    "X = all_data.iloc[:, [1,2,3,4,5,6,7]].values\n",
    "Y = all_data.iloc[:, 0]\n",
    "\n",
    "print('X shape: ', X.shape)\n",
    "print('X: ', X)\n",
    "print('y shape: ', Y.shape)\n",
    "print('Y: ', Y)"
   ]
  },
  {
   "cell_type": "code",
   "execution_count": 5,
   "metadata": {},
   "outputs": [
    {
     "data": {
      "text/plain": [
       "1    441\n",
       "0    288\n",
       "2    197\n",
       "Name: overall_building_condition, dtype: int64"
      ]
     },
     "execution_count": 5,
     "metadata": {},
     "output_type": "execute_result"
    }
   ],
   "source": [
    "Y.value_counts()"
   ]
  },
  {
   "cell_type": "markdown",
   "metadata": {},
   "source": [
    "### Encode categorical variables"
   ]
  },
  {
   "cell_type": "code",
   "execution_count": 6,
   "metadata": {},
   "outputs": [],
   "source": [
    "# Encoding Categorical Variables\n",
    "from sklearn import preprocessing\n",
    "le = preprocessing.LabelEncoder()\n",
    "\n",
    "X[:,3] = le.fit_transform(X[:,3]) #roof_shape\n",
    "X[:,4] = le.fit_transform(X[:,4]) #roof_cover\n",
    "X[:,5] = le.fit_transform(X[:,5]) #wall_cladding\n",
    "X[:,6] = le.fit_transform(X[:,6]) #structural_framing_system\n"
   ]
  },
  {
   "cell_type": "code",
   "execution_count": 7,
   "metadata": {},
   "outputs": [
    {
     "data": {
      "text/plain": [
       "2"
      ]
     },
     "execution_count": 7,
     "metadata": {},
     "output_type": "execute_result"
    }
   ],
   "source": [
    "X[1,3]"
   ]
  },
  {
   "cell_type": "code",
   "execution_count": 8,
   "metadata": {},
   "outputs": [],
   "source": [
    "class_names = ['No Damage','Moderately Damaged','Destroyed']"
   ]
  },
  {
   "cell_type": "markdown",
   "metadata": {},
   "source": [
    "### Split into train and test sets"
   ]
  },
  {
   "cell_type": "code",
   "execution_count": 9,
   "metadata": {},
   "outputs": [
    {
     "name": "stdout",
     "output_type": "stream",
     "text": [
      "X_train shape:  (740, 7)\n",
      "Y_train shape:  (740,)\n",
      "X_test shape:  (186, 7)\n",
      "Y_test shape:  (186,)\n"
     ]
    }
   ],
   "source": [
    "from sklearn.model_selection import train_test_split\n",
    "\n",
    "X_train, X_test, Y_train, Y_test = train_test_split(X, Y, test_size = 0.2, random_state=1993)\n",
    "\n",
    "print('X_train shape: ', X_train.shape)\n",
    "print('Y_train shape: ', Y_train.shape)\n",
    "print('X_test shape: ', X_test.shape)\n",
    "print('Y_test shape: ', Y_test.shape)\n"
   ]
  },
  {
   "cell_type": "markdown",
   "metadata": {},
   "source": [
    "## 3. MODELS"
   ]
  },
  {
   "cell_type": "markdown",
   "metadata": {},
   "source": [
    "### 3.1 Logistic Regression"
   ]
  },
  {
   "cell_type": "code",
   "execution_count": 10,
   "metadata": {},
   "outputs": [
    {
     "data": {
      "text/plain": [
       "LogisticRegression(C=1.0, class_weight=None, dual=False, fit_intercept=True,\n",
       "                   intercept_scaling=1, l1_ratio=None, max_iter=2000,\n",
       "                   multi_class='auto', n_jobs=None, penalty='l2',\n",
       "                   random_state=None, solver='lbfgs', tol=0.0001, verbose=0,\n",
       "                   warm_start=False)"
      ]
     },
     "execution_count": 10,
     "metadata": {},
     "output_type": "execute_result"
    }
   ],
   "source": [
    "from sklearn.linear_model import LogisticRegression\n",
    "logisticRegressionModel = LogisticRegression(max_iter=2000)\n",
    "\n",
    "logisticRegressionModel.fit(X_train, Y_train)"
   ]
  },
  {
   "cell_type": "code",
   "execution_count": 11,
   "metadata": {},
   "outputs": [
    {
     "name": "stdout",
     "output_type": "stream",
     "text": [
      "LogisticRegression  Mean accuracy (train) is   :  0.5621621621621622\n",
      "LogisticRegression  Mean accuracy (test)  is   :  0.510752688172043\n",
      "LogisticRegression  F1 Score      (test)  is   :  0.510752688172043\n",
      "Confusion matrix, without normalization\n"
     ]
    },
    {
     "data": {
      "image/png": "[encoded data removed]",
      "text/plain": [
       "<Figure size 432x288 with 2 Axes>"
      ]
     },
     "metadata": {
      "needs_background": "light"
     },
     "output_type": "display_data"
    }
   ],
   "source": [
    "from plotUtils import plot_confusion_matrix\n",
    "from sklearn.metrics import confusion_matrix\n",
    "from sklearn.metrics import f1_score\n",
    "\n",
    "model = logisticRegressionModel\n",
    "\n",
    "print(type(model).__name__,' Mean accuracy (train) is   : ' ,model.score(X_train, Y_train))\n",
    "print(type(model).__name__,' Mean accuracy (test)  is   : ' ,model.score(X_test, Y_test))\n",
    "    \n",
    "Y_pred = model.predict(X_test)\n",
    "print(type(model).__name__,' F1 Score      (test)  is   : ' ,f1_score(Y_test.to_numpy(),Y_pred, average='micro'))\n",
    "cnf_matrix = confusion_matrix(Y_test.to_numpy(),Y_pred)\n",
    "plot_confusion_matrix(cnf_matrix, classes=class_names, title='Confusion matrix',normalize=False)\n"
   ]
  },
  {
   "cell_type": "markdown",
   "metadata": {},
   "source": [
    "### 3.2 Decision Tree "
   ]
  },
  {
   "cell_type": "code",
   "execution_count": 11,
   "metadata": {},
   "outputs": [
    {
     "data": {
      "text/plain": [
       "DecisionTreeClassifier(ccp_alpha=0.0, class_weight=None, criterion='gini',\n",
       "                       max_depth=3, max_features=None, max_leaf_nodes=None,\n",
       "                       min_impurity_decrease=0.0, min_impurity_split=None,\n",
       "                       min_samples_leaf=1, min_samples_split=2,\n",
       "                       min_weight_fraction_leaf=0.0, presort='deprecated',\n",
       "                       random_state=1993, splitter='best')"
      ]
     },
     "execution_count": 11,
     "metadata": {},
     "output_type": "execute_result"
    }
   ],
   "source": [
    "from sklearn.tree import DecisionTreeClassifier\n",
    "\n",
    "decisionTreeModel = DecisionTreeClassifier(max_depth=3, random_state = 1993)\n",
    "decisionTreeModel.fit(X_train, Y_train)"
   ]
  },
  {
   "cell_type": "code",
   "execution_count": 12,
   "metadata": {},
   "outputs": [
    {
     "name": "stdout",
     "output_type": "stream",
     "text": [
      "DecisionTreeClassifier  Mean accuracy (train) is   :  0.6067567567567568\n",
      "DecisionTreeClassifier  Mean accuracy (test)  is   :  0.5806451612903226\n",
      "DecisionTreeClassifier  F1 Score      (test)  is   :  0.5806451612903226\n",
      "Confusion matrix, without normalization\n"
     ]
    },
    {
     "data": {
      "image/png": "[encoded data removed]",
      "text/plain": [
       "<Figure size 432x288 with 2 Axes>"
      ]
     },
     "metadata": {
      "needs_background": "light"
     },
     "output_type": "display_data"
    }
   ],
   "source": [
    "from plotUtils import plot_confusion_matrix\n",
    "from sklearn.metrics import confusion_matrix\n",
    "from sklearn.metrics import f1_score\n",
    "\n",
    "model = decisionTreeModel\n",
    "\n",
    "print(type(model).__name__,' Mean accuracy (train) is   : ' ,model.score(X_train, Y_train))\n",
    "print(type(model).__name__,' Mean accuracy (test)  is   : ' ,model.score(X_test, Y_test))\n",
    "    \n",
    "Y_pred = model.predict(X_test)\n",
    "print(type(model).__name__,' F1 Score      (test)  is   : ' ,f1_score(Y_test.to_numpy(),Y_pred, average='micro'))\n",
    "cnf_matrix = confusion_matrix(Y_test.to_numpy(),Y_pred)\n",
    "plot_confusion_matrix(cnf_matrix, classes=class_names, title='Confusion matrix',normalize=False)\n"
   ]
  },
  {
   "cell_type": "markdown",
   "metadata": {},
   "source": [
    "### 3.3 Random Forest "
   ]
  },
  {
   "cell_type": "code",
   "execution_count": 13,
   "metadata": {},
   "outputs": [
    {
     "data": {
      "text/plain": [
       "RandomForestClassifier(bootstrap=True, ccp_alpha=0.0, class_weight=None,\n",
       "                       criterion='gini', max_depth=3, max_features='auto',\n",
       "                       max_leaf_nodes=None, max_samples=None,\n",
       "                       min_impurity_decrease=0.0, min_impurity_split=None,\n",
       "                       min_samples_leaf=1, min_samples_split=2,\n",
       "                       min_weight_fraction_leaf=0.0, n_estimators=50,\n",
       "                       n_jobs=None, oob_score=False, random_state=1993,\n",
       "                       verbose=0, warm_start=False)"
      ]
     },
     "execution_count": 13,
     "metadata": {},
     "output_type": "execute_result"
    }
   ],
   "source": [
    "from sklearn.ensemble import RandomForestClassifier\n",
    "\n",
    "randomForestModel = RandomForestClassifier(n_estimators=50, max_depth=3, random_state = 1993)\n",
    "randomForestModel.fit(X_train, Y_train)"
   ]
  },
  {
   "cell_type": "code",
   "execution_count": 14,
   "metadata": {},
   "outputs": [
    {
     "name": "stdout",
     "output_type": "stream",
     "text": [
      "RandomForestClassifier  Mean accuracy (train) is   :  0.6162162162162163\n",
      "RandomForestClassifier  Mean accuracy (test)  is   :  0.553763440860215\n",
      "RandomForestClassifier  F1 Score      (test)  is   :  0.553763440860215\n",
      "Confusion matrix, without normalization\n"
     ]
    },
    {
     "data": {
      "image/png": "[encoded data removed]",
      "text/plain": [
       "<Figure size 432x288 with 2 Axes>"
      ]
     },
     "metadata": {
      "needs_background": "light"
     },
     "output_type": "display_data"
    }
   ],
   "source": [
    "from plotUtils import plot_confusion_matrix\n",
    "from sklearn.metrics import confusion_matrix\n",
    "from sklearn.metrics import f1_score\n",
    "\n",
    "model = randomForestModel\n",
    "\n",
    "print(type(model).__name__,' Mean accuracy (train) is   : ' ,model.score(X_train, Y_train))\n",
    "print(type(model).__name__,' Mean accuracy (test)  is   : ' ,model.score(X_test, Y_test))\n",
    "    \n",
    "Y_pred = model.predict(X_test)\n",
    "print(type(model).__name__,' F1 Score      (test)  is   : ' ,f1_score(Y_test.to_numpy(),Y_pred, average='micro'))\n",
    "cnf_matrix = confusion_matrix(Y_test.to_numpy(),Y_pred)\n",
    "plot_confusion_matrix(cnf_matrix, classes=class_names, title='Confusion matrix',normalize=False)\n"
   ]
  },
  {
   "cell_type": "markdown",
   "metadata": {},
   "source": [
    "### 3.4 K-Nearest Neighbors "
   ]
  },
  {
   "cell_type": "code",
   "execution_count": 15,
   "metadata": {},
   "outputs": [
    {
     "data": {
      "text/plain": [
       "KNeighborsClassifier(algorithm='auto', leaf_size=30, metric='minkowski',\n",
       "                     metric_params=None, n_jobs=None, n_neighbors=15, p=2,\n",
       "                     weights='uniform')"
      ]
     },
     "execution_count": 15,
     "metadata": {},
     "output_type": "execute_result"
    }
   ],
   "source": [
    "from sklearn.neighbors import KNeighborsClassifier\n",
    "\n",
    "knnModel = KNeighborsClassifier(n_neighbors = 15)\n",
    "\n",
    "knnModel.fit(X_train,Y_train)"
   ]
  },
  {
   "cell_type": "code",
   "execution_count": 16,
   "metadata": {},
   "outputs": [
    {
     "name": "stdout",
     "output_type": "stream",
     "text": [
      "KNeighborsClassifier  Mean accuracy (train) is   :  0.6189189189189189\n",
      "KNeighborsClassifier  Mean accuracy (test)  is   :  0.6075268817204301\n",
      "KNeighborsClassifier  F1 Score      (test)  is   :  0.6075268817204301\n",
      "Confusion matrix, without normalization\n"
     ]
    },
    {
     "data": {
      "image/png": "[encoded data removed]",
      "text/plain": [
       "<Figure size 432x288 with 2 Axes>"
      ]
     },
     "metadata": {
      "needs_background": "light"
     },
     "output_type": "display_data"
    }
   ],
   "source": [
    "from plotUtils import plot_confusion_matrix\n",
    "from sklearn.metrics import confusion_matrix\n",
    "from sklearn.metrics import f1_score\n",
    "\n",
    "model = knnModel\n",
    "\n",
    "print(type(model).__name__,' Mean accuracy (train) is   : ' ,model.score(X_train, Y_train))\n",
    "print(type(model).__name__,' Mean accuracy (test)  is   : ' ,model.score(X_test, Y_test))\n",
    "    \n",
    "Y_pred = model.predict(X_test)\n",
    "print(type(model).__name__,' F1 Score      (test)  is   : ' ,f1_score(Y_test.to_numpy(),Y_pred, average='micro'))\n",
    "cnf_matrix = confusion_matrix(Y_test.to_numpy(),Y_pred)\n",
    "plot_confusion_matrix(cnf_matrix, classes=class_names)"
   ]
  },
  {
   "cell_type": "markdown",
   "metadata": {},
   "source": [
    "### 3.5 Support Vector Machine\n"
   ]
  },
  {
   "cell_type": "code",
   "execution_count": 17,
   "metadata": {},
   "outputs": [
    {
     "data": {
      "text/plain": [
       "SVC(C=1.0, break_ties=False, cache_size=200, class_weight=None, coef0=0.0,\n",
       "    decision_function_shape='ovr', degree=3, gamma='scale', kernel='rbf',\n",
       "    max_iter=10000, probability=False, random_state=1993, shrinking=True,\n",
       "    tol=0.001, verbose=False)"
      ]
     },
     "execution_count": 17,
     "metadata": {},
     "output_type": "execute_result"
    }
   ],
   "source": [
    "from sklearn.svm import SVC\n",
    "\n",
    "SVCModel = SVC(kernel= 'rbf', max_iter=10000, random_state = 1993)\n",
    "\n",
    "SVCModel.fit(X_train,Y_train)"
   ]
  },
  {
   "cell_type": "code",
   "execution_count": 18,
   "metadata": {},
   "outputs": [
    {
     "name": "stdout",
     "output_type": "stream",
     "text": [
      "SVC  Mean accuracy (train) is   :  0.5351351351351351\n",
      "SVC  Mean accuracy (test)  is   :  0.5268817204301075\n",
      "SVC  F1 Score      (test)  is   :  0.5268817204301075\n",
      "Confusion matrix, without normalization\n"
     ]
    },
    {
     "data": {
      "image/png": "[encoded data removed]",
      "text/plain": [
       "<Figure size 432x288 with 2 Axes>"
      ]
     },
     "metadata": {
      "needs_background": "light"
     },
     "output_type": "display_data"
    }
   ],
   "source": [
    "from plotUtils import plot_confusion_matrix\n",
    "from sklearn.metrics import confusion_matrix\n",
    "from sklearn.metrics import f1_score\n",
    "\n",
    "model = SVCModel\n",
    "\n",
    "print(type(model).__name__,' Mean accuracy (train) is   : ' ,model.score(X_train, Y_train))\n",
    "print(type(model).__name__,' Mean accuracy (test)  is   : ' ,model.score(X_test, Y_test))\n",
    "    \n",
    "Y_pred = model.predict(X_test)\n",
    "print(type(model).__name__,' F1 Score      (test)  is   : ' ,f1_score(Y_test.to_numpy(),Y_pred, average='micro'))\n",
    "cnf_matrix = confusion_matrix(Y_test.to_numpy(),Y_pred)\n",
    "plot_confusion_matrix(cnf_matrix, classes=class_names)"
   ]
  },
  {
   "cell_type": "markdown",
   "metadata": {},
   "source": [
    "## 3.6 Multilayer Perceptron (Neural Network)"
   ]
  },
  {
   "cell_type": "code",
   "execution_count": 23,
   "metadata": {},
   "outputs": [
    {
     "data": {
      "text/plain": [
       "MLPClassifier(activation='relu', alpha=0.0001, batch_size='auto', beta_1=0.9,\n",
       "              beta_2=0.999, early_stopping=False, epsilon=1e-08,\n",
       "              hidden_layer_sizes=(10,), learning_rate='constant',\n",
       "              learning_rate_init=0.001, max_fun=15000, max_iter=2000,\n",
       "              momentum=0.9, n_iter_no_change=10, nesterovs_momentum=True,\n",
       "              power_t=0.5, random_state=1993, shuffle=True, solver='adam',\n",
       "              tol=0.0001, validation_fraction=0.1, verbose=False,\n",
       "              warm_start=False)"
      ]
     },
     "execution_count": 23,
     "metadata": {},
     "output_type": "execute_result"
    }
   ],
   "source": [
    "from sklearn.neural_network import MLPClassifier\n",
    "\n",
    "MLPModel = MLPClassifier(hidden_layer_sizes=(10,),max_iter=2000, random_state=1993)\n",
    "\n",
    "MLPModel.fit(X_train,Y_train)"
   ]
  },
  {
   "cell_type": "code",
   "execution_count": 24,
   "metadata": {},
   "outputs": [
    {
     "name": "stdout",
     "output_type": "stream",
     "text": [
      "MLPClassifier  Mean accuracy (train) is   :  0.6283783783783784\n",
      "MLPClassifier  Mean accuracy (test)  is   :  0.6397849462365591\n",
      "MLPClassifier  F1 Score      (test)  is   :  0.6397849462365591\n",
      "Confusion matrix, without normalization\n"
     ]
    },
    {
     "data": {
      "image/png": "[encoded data removed]",
      "text/plain": [
       "<Figure size 432x288 with 2 Axes>"
      ]
     },
     "metadata": {
      "needs_background": "light"
     },
     "output_type": "display_data"
    }
   ],
   "source": [
    "from plotUtils import plot_confusion_matrix\n",
    "from sklearn.metrics import confusion_matrix\n",
    "from sklearn.metrics import f1_score\n",
    "\n",
    "model = MLPModel\n",
    "\n",
    "print(type(model).__name__,' Mean accuracy (train) is   : ' ,model.score(X_train, Y_train))\n",
    "print(type(model).__name__,' Mean accuracy (test)  is   : ' ,model.score(X_test, Y_test))\n",
    "    \n",
    "Y_pred = model.predict(X_test)\n",
    "print(type(model).__name__,' F1 Score      (test)  is   : ' ,f1_score(Y_test.to_numpy(),Y_pred, average='micro'))\n",
    "cnf_matrix = confusion_matrix(Y_test.to_numpy(),Y_pred)\n",
    "plot_confusion_matrix(cnf_matrix, classes=class_names)"
   ]
  },
  {
   "cell_type": "code",
   "execution_count": null,
   "metadata": {},
   "outputs": [],
   "source": []
  }
 ],
 "metadata": {
  "kernelspec": {
   "display_name": "Python 3",
   "language": "python",
   "name": "python3"
  },
  "language_info": {
   "codemirror_mode": {
    "name": "ipython",
    "version": 3
   },
   "file_extension": ".py",
   "mimetype": "text/x-python",
   "name": "python",
   "nbconvert_exporter": "python",
   "pygments_lexer": "ipython3",
   "version": "3.7.0"
  }
 },
 "nbformat": 4,
 "nbformat_minor": 1
}
