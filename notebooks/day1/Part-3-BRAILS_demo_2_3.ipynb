{
  "nbformat": 4,
  "nbformat_minor": 0,
  "metadata": {
    "colab": {
      "name": "BRAILS-demo-2-3.ipynb",
      "provenance": [],
      "collapsed_sections": []
    },
    "kernelspec": {
      "name": "python3",
      "display_name": "Python 3"
    },
    "accelerator": "GPU",
    "widgets": {
      "application/vnd.jupyter.widget-state+json": {
        "d3fa0b400a174e33893b70d1b00cf6d9": {
          "model_module": "@jupyter-widgets/controls",
          "model_name": "HBoxModel",
          "model_module_version": "1.5.0",
          "state": {
            "_view_name": "HBoxView",
            "_dom_classes": [],
            "_model_name": "HBoxModel",
            "_view_module": "@jupyter-widgets/controls",
            "_model_module_version": "1.5.0",
            "_view_count": null,
            "_view_module_version": "1.5.0",
            "box_style": "",
            "layout": "IPY_MODEL_b30ac1a6e59f4394b09cbc7e8cdf95b0",
            "_model_module": "@jupyter-widgets/controls",
            "children": [
              "IPY_MODEL_b3d7bab45fcb4e858eaa72477f1b2890",
              "IPY_MODEL_74b9de19b18b40dba0f7a04b1bc5ab38"
            ]
          }
        },
        "b30ac1a6e59f4394b09cbc7e8cdf95b0": {
          "model_module": "@jupyter-widgets/base",
          "model_name": "LayoutModel",
          "model_module_version": "1.2.0",
          "state": {
            "_view_name": "LayoutView",
            "grid_template_rows": null,
            "right": null,
            "justify_content": null,
            "_view_module": "@jupyter-widgets/base",
            "overflow": null,
            "_model_module_version": "1.2.0",
            "_view_count": null,
            "flex_flow": null,
            "width": null,
            "min_width": null,
            "border": null,
            "align_items": null,
            "bottom": null,
            "_model_module": "@jupyter-widgets/base",
            "top": null,
            "grid_column": null,
            "overflow_y": null,
            "overflow_x": null,
            "grid_auto_flow": null,
            "grid_area": null,
            "grid_template_columns": null,
            "flex": null,
            "_model_name": "LayoutModel",
            "justify_items": null,
            "grid_row": null,
            "max_height": null,
            "align_content": null,
            "visibility": null,
            "align_self": null,
            "height": null,
            "min_height": null,
            "padding": null,
            "grid_auto_rows": null,
            "grid_gap": null,
            "max_width": null,
            "order": null,
            "_view_module_version": "1.2.0",
            "grid_template_areas": null,
            "object_position": null,
            "object_fit": null,
            "grid_auto_columns": null,
            "margin": null,
            "display": null,
            "left": null
          }
        },
        "b3d7bab45fcb4e858eaa72477f1b2890": {
          "model_module": "@jupyter-widgets/controls",
          "model_name": "FloatProgressModel",
          "model_module_version": "1.5.0",
          "state": {
            "_view_name": "ProgressView",
            "style": "IPY_MODEL_3a418ce1cb1d4e9d95a970ee3f57fef2",
            "_dom_classes": [],
            "description": "100%",
            "_model_name": "FloatProgressModel",
            "bar_style": "success",
            "max": 94368047,
            "_view_module": "@jupyter-widgets/controls",
            "_model_module_version": "1.5.0",
            "value": 94368047,
            "_view_count": null,
            "_view_module_version": "1.5.0",
            "orientation": "horizontal",
            "min": 0,
            "description_tooltip": null,
            "_model_module": "@jupyter-widgets/controls",
            "layout": "IPY_MODEL_e63587b1071a47b5b2c4bd6877c097c4"
          }
        },
        "74b9de19b18b40dba0f7a04b1bc5ab38": {
          "model_module": "@jupyter-widgets/controls",
          "model_name": "HTMLModel",
          "model_module_version": "1.5.0",
          "state": {
            "_view_name": "HTMLView",
            "style": "IPY_MODEL_e0e67d7e148a458d9cf9dfc762f20cf4",
            "_dom_classes": [],
            "description": "",
            "_model_name": "HTMLModel",
            "placeholder": "​",
            "_view_module": "@jupyter-widgets/controls",
            "_model_module_version": "1.5.0",
            "value": " 90.0M/90.0M [00:20&lt;00:00, 4.59MB/s]",
            "_view_count": null,
            "_view_module_version": "1.5.0",
            "description_tooltip": null,
            "_model_module": "@jupyter-widgets/controls",
            "layout": "IPY_MODEL_af67318743de4a77859643a9475e8c99"
          }
        },
        "3a418ce1cb1d4e9d95a970ee3f57fef2": {
          "model_module": "@jupyter-widgets/controls",
          "model_name": "ProgressStyleModel",
          "model_module_version": "1.5.0",
          "state": {
            "_view_name": "StyleView",
            "_model_name": "ProgressStyleModel",
            "description_width": "initial",
            "_view_module": "@jupyter-widgets/base",
            "_model_module_version": "1.5.0",
            "_view_count": null,
            "_view_module_version": "1.2.0",
            "bar_color": null,
            "_model_module": "@jupyter-widgets/controls"
          }
        },
        "e63587b1071a47b5b2c4bd6877c097c4": {
          "model_module": "@jupyter-widgets/base",
          "model_name": "LayoutModel",
          "model_module_version": "1.2.0",
          "state": {
            "_view_name": "LayoutView",
            "grid_template_rows": null,
            "right": null,
            "justify_content": null,
            "_view_module": "@jupyter-widgets/base",
            "overflow": null,
            "_model_module_version": "1.2.0",
            "_view_count": null,
            "flex_flow": null,
            "width": null,
            "min_width": null,
            "border": null,
            "align_items": null,
            "bottom": null,
            "_model_module": "@jupyter-widgets/base",
            "top": null,
            "grid_column": null,
            "overflow_y": null,
            "overflow_x": null,
            "grid_auto_flow": null,
            "grid_area": null,
            "grid_template_columns": null,
            "flex": null,
            "_model_name": "LayoutModel",
            "justify_items": null,
            "grid_row": null,
            "max_height": null,
            "align_content": null,
            "visibility": null,
            "align_self": null,
            "height": null,
            "min_height": null,
            "padding": null,
            "grid_auto_rows": null,
            "grid_gap": null,
            "max_width": null,
            "order": null,
            "_view_module_version": "1.2.0",
            "grid_template_areas": null,
            "object_position": null,
            "object_fit": null,
            "grid_auto_columns": null,
            "margin": null,
            "display": null,
            "left": null
          }
        },
        "e0e67d7e148a458d9cf9dfc762f20cf4": {
          "model_module": "@jupyter-widgets/controls",
          "model_name": "DescriptionStyleModel",
          "model_module_version": "1.5.0",
          "state": {
            "_view_name": "StyleView",
            "_model_name": "DescriptionStyleModel",
            "description_width": "",
            "_view_module": "@jupyter-widgets/base",
            "_model_module_version": "1.5.0",
            "_view_count": null,
            "_view_module_version": "1.2.0",
            "_model_module": "@jupyter-widgets/controls"
          }
        },
        "af67318743de4a77859643a9475e8c99": {
          "model_module": "@jupyter-widgets/base",
          "model_name": "LayoutModel",
          "model_module_version": "1.2.0",
          "state": {
            "_view_name": "LayoutView",
            "grid_template_rows": null,
            "right": null,
            "justify_content": null,
            "_view_module": "@jupyter-widgets/base",
            "overflow": null,
            "_model_module_version": "1.2.0",
            "_view_count": null,
            "flex_flow": null,
            "width": null,
            "min_width": null,
            "border": null,
            "align_items": null,
            "bottom": null,
            "_model_module": "@jupyter-widgets/base",
            "top": null,
            "grid_column": null,
            "overflow_y": null,
            "overflow_x": null,
            "grid_auto_flow": null,
            "grid_area": null,
            "grid_template_columns": null,
            "flex": null,
            "_model_name": "LayoutModel",
            "justify_items": null,
            "grid_row": null,
            "max_height": null,
            "align_content": null,
            "visibility": null,
            "align_self": null,
            "height": null,
            "min_height": null,
            "padding": null,
            "grid_auto_rows": null,
            "grid_gap": null,
            "max_width": null,
            "order": null,
            "_view_module_version": "1.2.0",
            "grid_template_areas": null,
            "object_position": null,
            "object_fit": null,
            "grid_auto_columns": null,
            "margin": null,
            "display": null,
            "left": null
          }
        },
        "7ae4a73edab44dec847d653a58fac09e": {
          "model_module": "@jupyter-widgets/controls",
          "model_name": "HBoxModel",
          "model_module_version": "1.5.0",
          "state": {
            "_view_name": "HBoxView",
            "_dom_classes": [],
            "_model_name": "HBoxModel",
            "_view_module": "@jupyter-widgets/controls",
            "_model_module_version": "1.5.0",
            "_view_count": null,
            "_view_module_version": "1.5.0",
            "box_style": "",
            "layout": "IPY_MODEL_d677acac6592402ca13c33d6c7c889f1",
            "_model_module": "@jupyter-widgets/controls",
            "children": [
              "IPY_MODEL_ba5ad951f82b4cb18639bfb3d9561ce3",
              "IPY_MODEL_3e16caa6e2d14332b92dc79e2699fef2"
            ]
          }
        },
        "d677acac6592402ca13c33d6c7c889f1": {
          "model_module": "@jupyter-widgets/base",
          "model_name": "LayoutModel",
          "model_module_version": "1.2.0",
          "state": {
            "_view_name": "LayoutView",
            "grid_template_rows": null,
            "right": null,
            "justify_content": null,
            "_view_module": "@jupyter-widgets/base",
            "overflow": null,
            "_model_module_version": "1.2.0",
            "_view_count": null,
            "flex_flow": null,
            "width": null,
            "min_width": null,
            "border": null,
            "align_items": null,
            "bottom": null,
            "_model_module": "@jupyter-widgets/base",
            "top": null,
            "grid_column": null,
            "overflow_y": null,
            "overflow_x": null,
            "grid_auto_flow": null,
            "grid_area": null,
            "grid_template_columns": null,
            "flex": null,
            "_model_name": "LayoutModel",
            "justify_items": null,
            "grid_row": null,
            "max_height": null,
            "align_content": null,
            "visibility": null,
            "align_self": null,
            "height": null,
            "min_height": null,
            "padding": null,
            "grid_auto_rows": null,
            "grid_gap": null,
            "max_width": null,
            "order": null,
            "_view_module_version": "1.2.0",
            "grid_template_areas": null,
            "object_position": null,
            "object_fit": null,
            "grid_auto_columns": null,
            "margin": null,
            "display": null,
            "left": null
          }
        },
        "ba5ad951f82b4cb18639bfb3d9561ce3": {
          "model_module": "@jupyter-widgets/controls",
          "model_name": "FloatProgressModel",
          "model_module_version": "1.5.0",
          "state": {
            "_view_name": "ProgressView",
            "style": "IPY_MODEL_7bbe803bfc354794a576b8c48676ceea",
            "_dom_classes": [],
            "description": "100%",
            "_model_name": "FloatProgressModel",
            "bar_style": "success",
            "max": 95015426,
            "_view_module": "@jupyter-widgets/controls",
            "_model_module_version": "1.5.0",
            "value": 95015426,
            "_view_count": null,
            "_view_module_version": "1.5.0",
            "orientation": "horizontal",
            "min": 0,
            "description_tooltip": null,
            "_model_module": "@jupyter-widgets/controls",
            "layout": "IPY_MODEL_12580c58e0e04bcf945971c8ac9ad779"
          }
        },
        "3e16caa6e2d14332b92dc79e2699fef2": {
          "model_module": "@jupyter-widgets/controls",
          "model_name": "HTMLModel",
          "model_module_version": "1.5.0",
          "state": {
            "_view_name": "HTMLView",
            "style": "IPY_MODEL_08740d76b6ca41769a44060ae442984a",
            "_dom_classes": [],
            "description": "",
            "_model_name": "HTMLModel",
            "placeholder": "​",
            "_view_module": "@jupyter-widgets/controls",
            "_model_module_version": "1.5.0",
            "value": " 90.6M/90.6M [00:06&lt;00:00, 15.0MB/s]",
            "_view_count": null,
            "_view_module_version": "1.5.0",
            "description_tooltip": null,
            "_model_module": "@jupyter-widgets/controls",
            "layout": "IPY_MODEL_5b7df8e9c3754412bc32c2e752b3cfa2"
          }
        },
        "7bbe803bfc354794a576b8c48676ceea": {
          "model_module": "@jupyter-widgets/controls",
          "model_name": "ProgressStyleModel",
          "model_module_version": "1.5.0",
          "state": {
            "_view_name": "StyleView",
            "_model_name": "ProgressStyleModel",
            "description_width": "initial",
            "_view_module": "@jupyter-widgets/base",
            "_model_module_version": "1.5.0",
            "_view_count": null,
            "_view_module_version": "1.2.0",
            "bar_color": null,
            "_model_module": "@jupyter-widgets/controls"
          }
        },
        "12580c58e0e04bcf945971c8ac9ad779": {
          "model_module": "@jupyter-widgets/base",
          "model_name": "LayoutModel",
          "model_module_version": "1.2.0",
          "state": {
            "_view_name": "LayoutView",
            "grid_template_rows": null,
            "right": null,
            "justify_content": null,
            "_view_module": "@jupyter-widgets/base",
            "overflow": null,
            "_model_module_version": "1.2.0",
            "_view_count": null,
            "flex_flow": null,
            "width": null,
            "min_width": null,
            "border": null,
            "align_items": null,
            "bottom": null,
            "_model_module": "@jupyter-widgets/base",
            "top": null,
            "grid_column": null,
            "overflow_y": null,
            "overflow_x": null,
            "grid_auto_flow": null,
            "grid_area": null,
            "grid_template_columns": null,
            "flex": null,
            "_model_name": "LayoutModel",
            "justify_items": null,
            "grid_row": null,
            "max_height": null,
            "align_content": null,
            "visibility": null,
            "align_self": null,
            "height": null,
            "min_height": null,
            "padding": null,
            "grid_auto_rows": null,
            "grid_gap": null,
            "max_width": null,
            "order": null,
            "_view_module_version": "1.2.0",
            "grid_template_areas": null,
            "object_position": null,
            "object_fit": null,
            "grid_auto_columns": null,
            "margin": null,
            "display": null,
            "left": null
          }
        },
        "08740d76b6ca41769a44060ae442984a": {
          "model_module": "@jupyter-widgets/controls",
          "model_name": "DescriptionStyleModel",
          "model_module_version": "1.5.0",
          "state": {
            "_view_name": "StyleView",
            "_model_name": "DescriptionStyleModel",
            "description_width": "",
            "_view_module": "@jupyter-widgets/base",
            "_model_module_version": "1.5.0",
            "_view_count": null,
            "_view_module_version": "1.2.0",
            "_model_module": "@jupyter-widgets/controls"
          }
        },
        "5b7df8e9c3754412bc32c2e752b3cfa2": {
          "model_module": "@jupyter-widgets/base",
          "model_name": "LayoutModel",
          "model_module_version": "1.2.0",
          "state": {
            "_view_name": "LayoutView",
            "grid_template_rows": null,
            "right": null,
            "justify_content": null,
            "_view_module": "@jupyter-widgets/base",
            "overflow": null,
            "_model_module_version": "1.2.0",
            "_view_count": null,
            "flex_flow": null,
            "width": null,
            "min_width": null,
            "border": null,
            "align_items": null,
            "bottom": null,
            "_model_module": "@jupyter-widgets/base",
            "top": null,
            "grid_column": null,
            "overflow_y": null,
            "overflow_x": null,
            "grid_auto_flow": null,
            "grid_area": null,
            "grid_template_columns": null,
            "flex": null,
            "_model_name": "LayoutModel",
            "justify_items": null,
            "grid_row": null,
            "max_height": null,
            "align_content": null,
            "visibility": null,
            "align_self": null,
            "height": null,
            "min_height": null,
            "padding": null,
            "grid_auto_rows": null,
            "grid_gap": null,
            "max_width": null,
            "order": null,
            "_view_module_version": "1.2.0",
            "grid_template_areas": null,
            "object_position": null,
            "object_fit": null,
            "grid_auto_columns": null,
            "margin": null,
            "display": null,
            "left": null
          }
        },
        "725e7abda5a74ef6ac0ff4f7a478c6a1": {
          "model_module": "@jupyter-widgets/controls",
          "model_name": "HBoxModel",
          "model_module_version": "1.5.0",
          "state": {
            "_view_name": "HBoxView",
            "_dom_classes": [],
            "_model_name": "HBoxModel",
            "_view_module": "@jupyter-widgets/controls",
            "_model_module_version": "1.5.0",
            "_view_count": null,
            "_view_module_version": "1.5.0",
            "box_style": "",
            "layout": "IPY_MODEL_2972b047359d4584b3a9527319abf707",
            "_model_module": "@jupyter-widgets/controls",
            "children": [
              "IPY_MODEL_4c67da51b8c04847a3c9671cb5d00ddc",
              "IPY_MODEL_d3f00dc2ad56469e872ad3359c026f5d"
            ]
          }
        },
        "2972b047359d4584b3a9527319abf707": {
          "model_module": "@jupyter-widgets/base",
          "model_name": "LayoutModel",
          "model_module_version": "1.2.0",
          "state": {
            "_view_name": "LayoutView",
            "grid_template_rows": null,
            "right": null,
            "justify_content": null,
            "_view_module": "@jupyter-widgets/base",
            "overflow": null,
            "_model_module_version": "1.2.0",
            "_view_count": null,
            "flex_flow": null,
            "width": null,
            "min_width": null,
            "border": null,
            "align_items": null,
            "bottom": null,
            "_model_module": "@jupyter-widgets/base",
            "top": null,
            "grid_column": null,
            "overflow_y": null,
            "overflow_x": null,
            "grid_auto_flow": null,
            "grid_area": null,
            "grid_template_columns": null,
            "flex": null,
            "_model_name": "LayoutModel",
            "justify_items": null,
            "grid_row": null,
            "max_height": null,
            "align_content": null,
            "visibility": null,
            "align_self": null,
            "height": null,
            "min_height": null,
            "padding": null,
            "grid_auto_rows": null,
            "grid_gap": null,
            "max_width": null,
            "order": null,
            "_view_module_version": "1.2.0",
            "grid_template_areas": null,
            "object_position": null,
            "object_fit": null,
            "grid_auto_columns": null,
            "margin": null,
            "display": null,
            "left": null
          }
        },
        "4c67da51b8c04847a3c9671cb5d00ddc": {
          "model_module": "@jupyter-widgets/controls",
          "model_name": "FloatProgressModel",
          "model_module_version": "1.5.0",
          "state": {
            "_view_name": "ProgressView",
            "style": "IPY_MODEL_85416fda60834dbca062c77c38d6438b",
            "_dom_classes": [],
            "description": "100%",
            "_model_name": "FloatProgressModel",
            "bar_style": "success",
            "max": 111844864,
            "_view_module": "@jupyter-widgets/controls",
            "_model_module_version": "1.5.0",
            "value": 111844864,
            "_view_count": null,
            "_view_module_version": "1.5.0",
            "orientation": "horizontal",
            "min": 0,
            "description_tooltip": null,
            "_model_module": "@jupyter-widgets/controls",
            "layout": "IPY_MODEL_61e4f61f5916429e961244094d8ccdce"
          }
        },
        "d3f00dc2ad56469e872ad3359c026f5d": {
          "model_module": "@jupyter-widgets/controls",
          "model_name": "HTMLModel",
          "model_module_version": "1.5.0",
          "state": {
            "_view_name": "HTMLView",
            "style": "IPY_MODEL_df63124897374cb6a7eddbaf182cc129",
            "_dom_classes": [],
            "description": "",
            "_model_name": "HTMLModel",
            "placeholder": "​",
            "_view_module": "@jupyter-widgets/controls",
            "_model_module_version": "1.5.0",
            "value": " 107M/107M [00:03&lt;00:00, 34.5MB/s]",
            "_view_count": null,
            "_view_module_version": "1.5.0",
            "description_tooltip": null,
            "_model_module": "@jupyter-widgets/controls",
            "layout": "IPY_MODEL_e49cef24b6d7417481f78508295deab0"
          }
        },
        "85416fda60834dbca062c77c38d6438b": {
          "model_module": "@jupyter-widgets/controls",
          "model_name": "ProgressStyleModel",
          "model_module_version": "1.5.0",
          "state": {
            "_view_name": "StyleView",
            "_model_name": "ProgressStyleModel",
            "description_width": "initial",
            "_view_module": "@jupyter-widgets/base",
            "_model_module_version": "1.5.0",
            "_view_count": null,
            "_view_module_version": "1.2.0",
            "bar_color": null,
            "_model_module": "@jupyter-widgets/controls"
          }
        },
        "61e4f61f5916429e961244094d8ccdce": {
          "model_module": "@jupyter-widgets/base",
          "model_name": "LayoutModel",
          "model_module_version": "1.2.0",
          "state": {
            "_view_name": "LayoutView",
            "grid_template_rows": null,
            "right": null,
            "justify_content": null,
            "_view_module": "@jupyter-widgets/base",
            "overflow": null,
            "_model_module_version": "1.2.0",
            "_view_count": null,
            "flex_flow": null,
            "width": null,
            "min_width": null,
            "border": null,
            "align_items": null,
            "bottom": null,
            "_model_module": "@jupyter-widgets/base",
            "top": null,
            "grid_column": null,
            "overflow_y": null,
            "overflow_x": null,
            "grid_auto_flow": null,
            "grid_area": null,
            "grid_template_columns": null,
            "flex": null,
            "_model_name": "LayoutModel",
            "justify_items": null,
            "grid_row": null,
            "max_height": null,
            "align_content": null,
            "visibility": null,
            "align_self": null,
            "height": null,
            "min_height": null,
            "padding": null,
            "grid_auto_rows": null,
            "grid_gap": null,
            "max_width": null,
            "order": null,
            "_view_module_version": "1.2.0",
            "grid_template_areas": null,
            "object_position": null,
            "object_fit": null,
            "grid_auto_columns": null,
            "margin": null,
            "display": null,
            "left": null
          }
        },
        "df63124897374cb6a7eddbaf182cc129": {
          "model_module": "@jupyter-widgets/controls",
          "model_name": "DescriptionStyleModel",
          "model_module_version": "1.5.0",
          "state": {
            "_view_name": "StyleView",
            "_model_name": "DescriptionStyleModel",
            "description_width": "",
            "_view_module": "@jupyter-widgets/base",
            "_model_module_version": "1.5.0",
            "_view_count": null,
            "_view_module_version": "1.2.0",
            "_model_module": "@jupyter-widgets/controls"
          }
        },
        "e49cef24b6d7417481f78508295deab0": {
          "model_module": "@jupyter-widgets/base",
          "model_name": "LayoutModel",
          "model_module_version": "1.2.0",
          "state": {
            "_view_name": "LayoutView",
            "grid_template_rows": null,
            "right": null,
            "justify_content": null,
            "_view_module": "@jupyter-widgets/base",
            "overflow": null,
            "_model_module_version": "1.2.0",
            "_view_count": null,
            "flex_flow": null,
            "width": null,
            "min_width": null,
            "border": null,
            "align_items": null,
            "bottom": null,
            "_model_module": "@jupyter-widgets/base",
            "top": null,
            "grid_column": null,
            "overflow_y": null,
            "overflow_x": null,
            "grid_auto_flow": null,
            "grid_area": null,
            "grid_template_columns": null,
            "flex": null,
            "_model_name": "LayoutModel",
            "justify_items": null,
            "grid_row": null,
            "max_height": null,
            "align_content": null,
            "visibility": null,
            "align_self": null,
            "height": null,
            "min_height": null,
            "padding": null,
            "grid_auto_rows": null,
            "grid_gap": null,
            "max_width": null,
            "order": null,
            "_view_module_version": "1.2.0",
            "grid_template_areas": null,
            "object_position": null,
            "object_fit": null,
            "grid_auto_columns": null,
            "margin": null,
            "display": null,
            "left": null
          }
        }
      }
    }
  },
  "cells": [
    {
      "cell_type": "markdown",
      "metadata": {
        "id": "V_tmS3kjTmR1"
      },
      "source": [
        "<table class=\"tfo-notebook-buttons\" align=\"left\">\n",
        "\n",
        "  <td>\n",
        "    <a target=\"_blank\" href=\"https://colab.research.google.com/drive/1tG6xVRCmDyi6K8TWgoNd_31vV034VcSO?usp=sharing\"><img src=\"https://www.tensorflow.org/images/colab_logo_32px.png\" />Run in Google Colab</a>\n",
        "  </td>\n",
        "\n",
        "</table>"
      ]
    },
    {
      "cell_type": "markdown",
      "metadata": {
        "id": "50npJGAfibPu"
      },
      "source": [
        "### Install BRAILS"
      ]
    },
    {
      "cell_type": "code",
      "metadata": {
        "id": "Xy9VQi9tLCZi"
      },
      "source": [
        "!pip install BRAILS"
      ],
      "execution_count": null,
      "outputs": []
    },
    {
      "cell_type": "code",
      "metadata": {
        "id": "9lyESm3bZ-TI"
      },
      "source": [
        "# update pytorch with cuda11.0. This is required if you have GPU and want to get 'year', 'elevated' \n",
        "#!pip install torch==1.7.1+cu110 torchvision==0.8.2+cu110 torchaudio===0.7.2 -f https://download.pytorch.org/whl/torch_stable.html"
      ],
      "execution_count": null,
      "outputs": []
    },
    {
      "cell_type": "markdown",
      "metadata": {
        "id": "sb1z8biHaooJ"
      },
      "source": [
        "Updates(03/10/2021): No need to manually update cuda, the default environment here is ok."
      ]
    },
    {
      "cell_type": "markdown",
      "metadata": {
        "id": "i8Tge8AkiUBE"
      },
      "source": [
        "## Create a city-scale building inventory\n",
        "The following are examples showing how to create building inventories for a selected region of interest.\n",
        "\n",
        "You need to provide the Google maps API key for downloading street view and satellite images.\n",
        "\n",
        "Instructions on obtaining the API key can be found here: https://developers.google.com/maps/documentation/embed/get-api-key\n",
        "\n",
        "Keep in mind there is a limit of free calls you can make to the API, so keep numBldg small for testing. \n",
        "\n"
      ]
    },
    {
      "cell_type": "markdown",
      "metadata": {
        "id": "TaoeiyfDskPK"
      },
      "source": [
        "## Example 2: Workflow"
      ]
    },
    {
      "cell_type": "code",
      "metadata": {
        "id": "BI_Dd6jVdgOV",
        "colab": {
          "base_uri": "https://localhost:8080/",
          "height": 1000,
          "referenced_widgets": [
            "d3fa0b400a174e33893b70d1b00cf6d9",
            "b30ac1a6e59f4394b09cbc7e8cdf95b0",
            "b3d7bab45fcb4e858eaa72477f1b2890",
            "74b9de19b18b40dba0f7a04b1bc5ab38",
            "3a418ce1cb1d4e9d95a970ee3f57fef2",
            "e63587b1071a47b5b2c4bd6877c097c4",
            "e0e67d7e148a458d9cf9dfc762f20cf4",
            "af67318743de4a77859643a9475e8c99",
            "7ae4a73edab44dec847d653a58fac09e",
            "d677acac6592402ca13c33d6c7c889f1",
            "ba5ad951f82b4cb18639bfb3d9561ce3",
            "3e16caa6e2d14332b92dc79e2699fef2",
            "7bbe803bfc354794a576b8c48676ceea",
            "12580c58e0e04bcf945971c8ac9ad779",
            "08740d76b6ca41769a44060ae442984a",
            "5b7df8e9c3754412bc32c2e752b3cfa2",
            "725e7abda5a74ef6ac0ff4f7a478c6a1",
            "2972b047359d4584b3a9527319abf707",
            "4c67da51b8c04847a3c9671cb5d00ddc",
            "d3f00dc2ad56469e872ad3359c026f5d",
            "85416fda60834dbca062c77c38d6438b",
            "61e4f61f5916429e961244094d8ccdce",
            "df63124897374cb6a7eddbaf182cc129",
            "e49cef24b6d7417481f78508295deab0"
          ]
        },
        "outputId": "d12ccb98-24d4-468a-a0c7-f6dc2c5c8292"
      },
      "source": [
        "# A neighborhood in Lake Charles, Louisiana, USA\n",
        "\n",
        "# Import the CityBuilder from BRAILS\n",
        "from brails.CityBuilder import CityBuilder\n",
        "\n",
        "# Initialize the CityBuilder\n",
        "cityBuilder = CityBuilder(attributes=['softstory','occupancy','roofshape','year','numstories','elevated'], \n",
        "                   numBldg=10,random=False, place='Berkeley, CA', footPrints='OSM',\n",
        "                   GoogleMapAPIKey='put-your-key-here',overwrite=True,reDownloadImgs=True)\n",
        "\n",
        "# create the city-scale BIM file\n",
        "BIM = cityBuilder.build()\n"
      ],
      "execution_count": null,
      "outputs": [
        {
          "output_type": "stream",
          "text": [
            "Berkeley, CA\n",
            "Trying to get OSM footprints by the place name Berkeley, CA.\n",
            "Footprint saved at tmp/Berkeley__CA_footprints_OSM.geojson\n",
            "35273 buildings found.\n",
            "10 buildings selected.\n",
            "Starting downloading images.\n",
            "Downloading images from Google API ...\n",
            "empty image from API: -122.239139, 37.852607\n",
            "empty image from API: -122.258374, 37.874862\n",
            "Images downloaded ...\n",
            "A default softstory model will be used: softstory_ResNet50_V0.1.\n"
          ],
          "name": "stdout"
        },
        {
          "output_type": "stream",
          "text": [
            "/usr/local/lib/python3.7/dist-packages/brails/CityBuilder.py:185: UserWarning: Geometry is in a geographic CRS. Results from 'centroid' are likely incorrect. Use 'GeoSeries.to_crs()' to re-project geometries to a projected CRS before this operation.\n",
            "\n",
            "  self.BIM['Lon'] = self.BIM['geometry'].centroid.x#.round(decimals=6)\n",
            "/usr/local/lib/python3.7/dist-packages/brails/CityBuilder.py:186: UserWarning: Geometry is in a geographic CRS. Results from 'centroid' are likely incorrect. Use 'GeoSeries.to_crs()' to re-project geometries to a projected CRS before this operation.\n",
            "\n",
            "  self.BIM['Lat'] = self.BIM['geometry'].centroid.y#.round(decimals=6)\n"
          ],
          "name": "stderr"
        },
        {
          "output_type": "stream",
          "text": [
            "Model found locally: tmp/softstory_ResNet50_V0.1.h5 \n",
            "Results written in file tmp/softstory_preds.csv\n",
            "A default occupancy model will be used: occupancy_ResNet50_V0.1.\n",
            "Model found locally: tmp/occupancy_ResNet50_V0.1.h5 \n",
            "Results written in file tmp/occupancy_preds.csv\n",
            "A default roof type model will be used: rooftype_ResNet50_V0.2.\n",
            "Model found locally: tmp/rooftype_ResNet50_V0.2.h5 \n",
            "Results written in file tmp/roofType_preds.csv\n",
            "Testing image 0 from 10\n"
          ],
          "name": "stdout"
        },
        {
          "output_type": "stream",
          "text": [
            "/usr/local/lib/python3.7/dist-packages/torchvision/transforms/transforms.py:285: UserWarning: The use of the transforms.Scale transform is deprecated, please use transforms.Resize instead.\n",
            "  warnings.warn(\"The use of the transforms.Scale transform is deprecated, \" +\n",
            "/usr/local/lib/python3.7/dist-packages/brails/modules/Year_Built_Classifier/YearBuiltClassifier.py:132: UserWarning: Implicit dimension choice for softmax has been deprecated. Change the call to include dim=X as an argument.\n",
            "  output = sm(outputs_com.data)\n"
          ],
          "name": "stderr"
        },
        {
          "output_type": "stream",
          "text": [
            "Results written in file tmp/YearBuilt.csv\n",
            "Performing inferences on images...\n"
          ],
          "name": "stdout"
        },
        {
          "output_type": "stream",
          "text": [
            "100%|██████████| 10/10 [00:02<00:00,  3.40it/s]\n"
          ],
          "name": "stderr"
        },
        {
          "output_type": "stream",
          "text": [
            "\n",
            "Total execution time: 00:00:03.59\n",
            "Loading remote model file to the weights folder..\n"
          ],
          "name": "stdout"
        },
        {
          "output_type": "display_data",
          "data": {
            "application/vnd.jupyter.widget-view+json": {
              "model_id": "d3fa0b400a174e33893b70d1b00cf6d9",
              "version_minor": 0,
              "version_major": 2
            },
            "text/plain": [
              "HBox(children=(FloatProgress(value=0.0, max=94368047.0), HTML(value='')))"
            ]
          },
          "metadata": {
            "tags": []
          }
        },
        {
          "output_type": "stream",
          "text": [
            "\n",
            "Loading remote model (encoder) file to the weights folder..\n"
          ],
          "name": "stdout"
        },
        {
          "output_type": "display_data",
          "data": {
            "application/vnd.jupyter.widget-view+json": {
              "model_id": "7ae4a73edab44dec847d653a58fac09e",
              "version_minor": 0,
              "version_major": 2
            },
            "text/plain": [
              "HBox(children=(FloatProgress(value=0.0, max=95015426.0), HTML(value='')))"
            ]
          },
          "metadata": {
            "tags": []
          }
        },
        {
          "output_type": "stream",
          "text": [
            "\n",
            "Loading remote model (decoder) file to the weights folder..\n"
          ],
          "name": "stdout"
        },
        {
          "output_type": "display_data",
          "data": {
            "application/vnd.jupyter.widget-view+json": {
              "model_id": "725e7abda5a74ef6ac0ff4f7a478c6a1",
              "version_minor": 0,
              "version_major": 2
            },
            "text/plain": [
              "HBox(children=(FloatProgress(value=0.0, max=111844864.0), HTML(value='')))"
            ]
          },
          "metadata": {
            "tags": []
          }
        },
        {
          "output_type": "stream",
          "text": [
            "\n",
            "Results written in file tmp/FoundationElevation.csv\n",
            "BIM saved at tmp/Berkeley__CA_BIM.geojson\n"
          ],
          "name": "stdout"
        }
      ]
    },
    {
      "cell_type": "markdown",
      "metadata": {
        "id": "sUuHpagsjxDA"
      },
      "source": [
        "If you have errors like this: \n",
        "UnidentifiedImageError: cannot identify image file <_io.BytesIO object at 0x152821518>\n",
        ", that means you didn't provide the correct GoogleMapAPIKey, or the key somehow didn't work. The solution is to provide the correct key, let reDownloadImgs=True, and run it again.\n"
      ]
    },
    {
      "cell_type": "code",
      "metadata": {
        "colab": {
          "base_uri": "https://localhost:8080/",
          "height": 1000
        },
        "id": "YAJaP6Emf6EL",
        "outputId": "34e10f19-7d7f-4b98-daa7-394f5cb01060"
      },
      "source": [
        "BIM.plot()\n",
        "BIM"
      ],
      "execution_count": null,
      "outputs": [
        {
          "output_type": "execute_result",
          "data": {
            "text/html": [
              "<div>\n",
              "<style scoped>\n",
              "    .dataframe tbody tr th:only-of-type {\n",
              "        vertical-align: middle;\n",
              "    }\n",
              "\n",
              "    .dataframe tbody tr th {\n",
              "        vertical-align: top;\n",
              "    }\n",
              "\n",
              "    .dataframe thead th {\n",
              "        text-align: right;\n",
              "    }\n",
              "</style>\n",
              "<table border=\"1\" class=\"dataframe\">\n",
              "  <thead>\n",
              "    <tr style=\"text-align: right;\">\n",
              "      <th></th>\n",
              "      <th>geometry</th>\n",
              "      <th>ID</th>\n",
              "      <th>softStory</th>\n",
              "      <th>softStoryProb</th>\n",
              "      <th>occupancy</th>\n",
              "      <th>occupancyProb</th>\n",
              "      <th>roofShape</th>\n",
              "      <th>roofShapeProb</th>\n",
              "    </tr>\n",
              "  </thead>\n",
              "  <tbody>\n",
              "    <tr>\n",
              "      <th>0</th>\n",
              "      <td>POLYGON ((-122.28425 37.89321, -122.28428 37.8...</td>\n",
              "      <td>0</td>\n",
              "      <td>others</td>\n",
              "      <td>0.884252</td>\n",
              "      <td>RES1</td>\n",
              "      <td>0.997940</td>\n",
              "      <td>hipped</td>\n",
              "      <td>0.901893</td>\n",
              "    </tr>\n",
              "    <tr>\n",
              "      <th>1</th>\n",
              "      <td>POLYGON ((-122.28131 37.89328, -122.28141 37.8...</td>\n",
              "      <td>1</td>\n",
              "      <td>softstory</td>\n",
              "      <td>0.818908</td>\n",
              "      <td>RES3</td>\n",
              "      <td>0.999335</td>\n",
              "      <td>hipped</td>\n",
              "      <td>0.999055</td>\n",
              "    </tr>\n",
              "    <tr>\n",
              "      <th>2</th>\n",
              "      <td>POLYGON ((-122.28172 37.89367, -122.28169 37.8...</td>\n",
              "      <td>2</td>\n",
              "      <td>softstory</td>\n",
              "      <td>0.964414</td>\n",
              "      <td>RES3</td>\n",
              "      <td>0.949093</td>\n",
              "      <td>hipped</td>\n",
              "      <td>0.986971</td>\n",
              "    </tr>\n",
              "    <tr>\n",
              "      <th>3</th>\n",
              "      <td>POLYGON ((-122.28151 37.89461, -122.28140 37.8...</td>\n",
              "      <td>3</td>\n",
              "      <td>others</td>\n",
              "      <td>0.954046</td>\n",
              "      <td>RES1</td>\n",
              "      <td>0.502741</td>\n",
              "      <td>gabled</td>\n",
              "      <td>0.489584</td>\n",
              "    </tr>\n",
              "    <tr>\n",
              "      <th>4</th>\n",
              "      <td>POLYGON ((-122.28569 37.89547, -122.28587 37.8...</td>\n",
              "      <td>4</td>\n",
              "      <td>others</td>\n",
              "      <td>0.997930</td>\n",
              "      <td>RES1</td>\n",
              "      <td>0.869104</td>\n",
              "      <td>flat</td>\n",
              "      <td>0.608942</td>\n",
              "    </tr>\n",
              "    <tr>\n",
              "      <th>...</th>\n",
              "      <td>...</td>\n",
              "      <td>...</td>\n",
              "      <td>...</td>\n",
              "      <td>...</td>\n",
              "      <td>...</td>\n",
              "      <td>...</td>\n",
              "      <td>...</td>\n",
              "      <td>...</td>\n",
              "    </tr>\n",
              "    <tr>\n",
              "      <th>995</th>\n",
              "      <td>POLYGON ((-122.24954 37.86078, -122.24953 37.8...</td>\n",
              "      <td>995</td>\n",
              "      <td>others</td>\n",
              "      <td>0.906596</td>\n",
              "      <td>RES1</td>\n",
              "      <td>0.952020</td>\n",
              "      <td>hipped</td>\n",
              "      <td>0.949422</td>\n",
              "    </tr>\n",
              "    <tr>\n",
              "      <th>996</th>\n",
              "      <td>POLYGON ((-122.24768 37.86140, -122.24752 37.8...</td>\n",
              "      <td>996</td>\n",
              "      <td>others</td>\n",
              "      <td>0.999919</td>\n",
              "      <td>RES1</td>\n",
              "      <td>0.998013</td>\n",
              "      <td>hipped</td>\n",
              "      <td>0.982831</td>\n",
              "    </tr>\n",
              "    <tr>\n",
              "      <th>997</th>\n",
              "      <td>POLYGON ((-122.24778 37.86217, -122.24779 37.8...</td>\n",
              "      <td>997</td>\n",
              "      <td>others</td>\n",
              "      <td>0.868830</td>\n",
              "      <td>RES3</td>\n",
              "      <td>0.999622</td>\n",
              "      <td>hipped</td>\n",
              "      <td>0.984183</td>\n",
              "    </tr>\n",
              "    <tr>\n",
              "      <th>998</th>\n",
              "      <td>POLYGON ((-122.24554 37.86245, -122.24554 37.8...</td>\n",
              "      <td>998</td>\n",
              "      <td>softstory</td>\n",
              "      <td>0.999849</td>\n",
              "      <td>RES3</td>\n",
              "      <td>0.988792</td>\n",
              "      <td>hipped</td>\n",
              "      <td>0.838843</td>\n",
              "    </tr>\n",
              "    <tr>\n",
              "      <th>999</th>\n",
              "      <td>POLYGON ((-122.25148 37.86564, -122.25118 37.8...</td>\n",
              "      <td>999</td>\n",
              "      <td>others</td>\n",
              "      <td>0.776081</td>\n",
              "      <td>RES3</td>\n",
              "      <td>0.982203</td>\n",
              "      <td>hipped</td>\n",
              "      <td>0.996974</td>\n",
              "    </tr>\n",
              "  </tbody>\n",
              "</table>\n",
              "<p>1000 rows × 8 columns</p>\n",
              "</div>"
            ],
            "text/plain": [
              "                                              geometry  ...  roofShapeProb\n",
              "0    POLYGON ((-122.28425 37.89321, -122.28428 37.8...  ...       0.901893\n",
              "1    POLYGON ((-122.28131 37.89328, -122.28141 37.8...  ...       0.999055\n",
              "2    POLYGON ((-122.28172 37.89367, -122.28169 37.8...  ...       0.986971\n",
              "3    POLYGON ((-122.28151 37.89461, -122.28140 37.8...  ...       0.489584\n",
              "4    POLYGON ((-122.28569 37.89547, -122.28587 37.8...  ...       0.608942\n",
              "..                                                 ...  ...            ...\n",
              "995  POLYGON ((-122.24954 37.86078, -122.24953 37.8...  ...       0.949422\n",
              "996  POLYGON ((-122.24768 37.86140, -122.24752 37.8...  ...       0.982831\n",
              "997  POLYGON ((-122.24778 37.86217, -122.24779 37.8...  ...       0.984183\n",
              "998  POLYGON ((-122.24554 37.86245, -122.24554 37.8...  ...       0.838843\n",
              "999  POLYGON ((-122.25148 37.86564, -122.25118 37.8...  ...       0.996974\n",
              "\n",
              "[1000 rows x 8 columns]"
            ]
          },
          "metadata": {
            "tags": []
          },
          "execution_count": 11
        },
        {
          "output_type": "display_data",
          "data": {
            "image/png": "[encoded data removed]",
            "text/plain": [
              "<Figure size 432x288 with 1 Axes>"
            ]
          },
          "metadata": {
            "tags": [],
            "needs_background": "light"
          }
        }
      ]
    },
    {
      "cell_type": "markdown",
      "metadata": {
        "id": "s3uvotoks_6a"
      },
      "source": [
        "## Example 3: Workflow"
      ]
    },
    {
      "cell_type": "code",
      "metadata": {
        "id": "waiTnuA4e9OG"
      },
      "source": [
        "# A neighborhood in Christchurch, New Zealand\n",
        "\n",
        "# Import the module from BRAILS\n",
        "from brails.CityBuilder import CityBuilder\n",
        "\n",
        "# Initialize the CityBuilder\n",
        "cityBuilder = CityBuilder(attributes=['softstory','occupancy','roofshape','year'], \n",
        "                   numBldg=100,random=False, bbox=[-43.526607, 172.650664,-43.528722, 172.652770], \n",
        "                   GoogleMapAPIKey='put-your-key-here',overwrite=True,reDownloadImgs=False)\n",
        "\n",
        "BIM = cityBuilder.build()"
      ],
      "execution_count": null,
      "outputs": []
    },
    {
      "cell_type": "code",
      "metadata": {
        "colab": {
          "base_uri": "https://localhost:8080/",
          "height": 1000
        },
        "id": "K9T8CPBPfaBQ",
        "outputId": "877eb023-2129-4912-99c6-3abf85eff022"
      },
      "source": [
        "BIM.plot()\n",
        "BIM"
      ],
      "execution_count": null,
      "outputs": [
        {
          "output_type": "execute_result",
          "data": {
            "text/html": [
              "<div>\n",
              "<style scoped>\n",
              "    .dataframe tbody tr th:only-of-type {\n",
              "        vertical-align: middle;\n",
              "    }\n",
              "\n",
              "    .dataframe tbody tr th {\n",
              "        vertical-align: top;\n",
              "    }\n",
              "\n",
              "    .dataframe thead th {\n",
              "        text-align: right;\n",
              "    }\n",
              "</style>\n",
              "<table border=\"1\" class=\"dataframe\">\n",
              "  <thead>\n",
              "    <tr style=\"text-align: right;\">\n",
              "      <th></th>\n",
              "      <th>geometry</th>\n",
              "      <th>ID</th>\n",
              "      <th>softStory</th>\n",
              "      <th>softStoryProb</th>\n",
              "      <th>occupancy</th>\n",
              "      <th>occupancyProb</th>\n",
              "      <th>roofShape</th>\n",
              "      <th>roofShapeProb</th>\n",
              "    </tr>\n",
              "  </thead>\n",
              "  <tbody>\n",
              "    <tr>\n",
              "      <th>0</th>\n",
              "      <td>POLYGON ((172.65118 -43.52845, 172.65118 -43.5...</td>\n",
              "      <td>0</td>\n",
              "      <td>others</td>\n",
              "      <td>0.999716</td>\n",
              "      <td>RES1</td>\n",
              "      <td>0.999995</td>\n",
              "      <td>gabled</td>\n",
              "      <td>0.549041</td>\n",
              "    </tr>\n",
              "    <tr>\n",
              "      <th>1</th>\n",
              "      <td>POLYGON ((172.65264 -43.52806, 172.65246 -43.5...</td>\n",
              "      <td>1</td>\n",
              "      <td>others</td>\n",
              "      <td>0.997607</td>\n",
              "      <td>RES1</td>\n",
              "      <td>0.999311</td>\n",
              "      <td>gabled</td>\n",
              "      <td>0.529588</td>\n",
              "    </tr>\n",
              "    <tr>\n",
              "      <th>2</th>\n",
              "      <td>POLYGON ((172.65181 -43.52791, 172.65191 -43.5...</td>\n",
              "      <td>2</td>\n",
              "      <td>softstory</td>\n",
              "      <td>0.675168</td>\n",
              "      <td>RES1</td>\n",
              "      <td>0.999954</td>\n",
              "      <td>gabled</td>\n",
              "      <td>0.882069</td>\n",
              "    </tr>\n",
              "    <tr>\n",
              "      <th>3</th>\n",
              "      <td>POLYGON ((172.65113 -43.52862, 172.65114 -43.5...</td>\n",
              "      <td>3</td>\n",
              "      <td>softstory</td>\n",
              "      <td>0.881161</td>\n",
              "      <td>RES1</td>\n",
              "      <td>0.999982</td>\n",
              "      <td>flat</td>\n",
              "      <td>0.864188</td>\n",
              "    </tr>\n",
              "    <tr>\n",
              "      <th>4</th>\n",
              "      <td>POLYGON ((172.65083 -43.52830, 172.65102 -43.5...</td>\n",
              "      <td>4</td>\n",
              "      <td>others</td>\n",
              "      <td>0.825773</td>\n",
              "      <td>RES1</td>\n",
              "      <td>0.998141</td>\n",
              "      <td>flat</td>\n",
              "      <td>0.795155</td>\n",
              "    </tr>\n",
              "    <tr>\n",
              "      <th>...</th>\n",
              "      <td>...</td>\n",
              "      <td>...</td>\n",
              "      <td>...</td>\n",
              "      <td>...</td>\n",
              "      <td>...</td>\n",
              "      <td>...</td>\n",
              "      <td>...</td>\n",
              "      <td>...</td>\n",
              "    </tr>\n",
              "    <tr>\n",
              "      <th>83</th>\n",
              "      <td>POLYGON ((172.65103 -43.52716, 172.65110 -43.5...</td>\n",
              "      <td>83</td>\n",
              "      <td>others</td>\n",
              "      <td>0.999159</td>\n",
              "      <td>RES1</td>\n",
              "      <td>0.999082</td>\n",
              "      <td>flat</td>\n",
              "      <td>0.812168</td>\n",
              "    </tr>\n",
              "    <tr>\n",
              "      <th>84</th>\n",
              "      <td>POLYGON ((172.65227 -43.52771, 172.65238 -43.5...</td>\n",
              "      <td>84</td>\n",
              "      <td>others</td>\n",
              "      <td>0.998915</td>\n",
              "      <td>RES3</td>\n",
              "      <td>0.994101</td>\n",
              "      <td>flat</td>\n",
              "      <td>0.575926</td>\n",
              "    </tr>\n",
              "    <tr>\n",
              "      <th>85</th>\n",
              "      <td>POLYGON ((172.65142 -43.52682, 172.65141 -43.5...</td>\n",
              "      <td>85</td>\n",
              "      <td>others</td>\n",
              "      <td>0.987648</td>\n",
              "      <td>RES1</td>\n",
              "      <td>0.910897</td>\n",
              "      <td>flat</td>\n",
              "      <td>0.531442</td>\n",
              "    </tr>\n",
              "    <tr>\n",
              "      <th>86</th>\n",
              "      <td>POLYGON ((172.65163 -43.52711, 172.65163 -43.5...</td>\n",
              "      <td>86</td>\n",
              "      <td>others</td>\n",
              "      <td>0.999783</td>\n",
              "      <td>RES1</td>\n",
              "      <td>0.999997</td>\n",
              "      <td>flat</td>\n",
              "      <td>0.804593</td>\n",
              "    </tr>\n",
              "    <tr>\n",
              "      <th>87</th>\n",
              "      <td>POLYGON ((172.65118 -43.52724, 172.65119 -43.5...</td>\n",
              "      <td>87</td>\n",
              "      <td>others</td>\n",
              "      <td>0.998943</td>\n",
              "      <td>RES1</td>\n",
              "      <td>0.999199</td>\n",
              "      <td>flat</td>\n",
              "      <td>0.528234</td>\n",
              "    </tr>\n",
              "  </tbody>\n",
              "</table>\n",
              "<p>88 rows × 8 columns</p>\n",
              "</div>"
            ],
            "text/plain": [
              "                                             geometry  ...  roofShapeProb\n",
              "0   POLYGON ((172.65118 -43.52845, 172.65118 -43.5...  ...       0.549041\n",
              "1   POLYGON ((172.65264 -43.52806, 172.65246 -43.5...  ...       0.529588\n",
              "2   POLYGON ((172.65181 -43.52791, 172.65191 -43.5...  ...       0.882069\n",
              "3   POLYGON ((172.65113 -43.52862, 172.65114 -43.5...  ...       0.864188\n",
              "4   POLYGON ((172.65083 -43.52830, 172.65102 -43.5...  ...       0.795155\n",
              "..                                                ...  ...            ...\n",
              "83  POLYGON ((172.65103 -43.52716, 172.65110 -43.5...  ...       0.812168\n",
              "84  POLYGON ((172.65227 -43.52771, 172.65238 -43.5...  ...       0.575926\n",
              "85  POLYGON ((172.65142 -43.52682, 172.65141 -43.5...  ...       0.531442\n",
              "86  POLYGON ((172.65163 -43.52711, 172.65163 -43.5...  ...       0.804593\n",
              "87  POLYGON ((172.65118 -43.52724, 172.65119 -43.5...  ...       0.528234\n",
              "\n",
              "[88 rows x 8 columns]"
            ]
          },
          "metadata": {
            "tags": []
          },
          "execution_count": 15
        },
        {
          "output_type": "display_data",
          "data": {
            "image/png": "[encoded data removed]",
            "text/plain": [
              "<Figure size 432x288 with 1 Axes>"
            ]
          },
          "metadata": {
            "tags": [],
            "needs_background": "light"
          }
        }
      ]
    }
  ]
}