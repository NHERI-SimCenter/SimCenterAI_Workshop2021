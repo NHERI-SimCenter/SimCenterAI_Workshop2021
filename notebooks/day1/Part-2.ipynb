{
 "cells": [
  {
   "cell_type": "markdown",
   "metadata": {
    "colab_type": "text",
    "id": "hRTa3Ee15WsJ"
   },
   "source": [
    "# Image Classification wiht Transfer Learning "
   ]
  },
  {
   "cell_type": "markdown",
   "metadata": {
    "colab_type": "text",
    "id": "dQHMcypT3vDT"
   },
   "source": [
    "<table class=\"tfo-notebook-buttons\" align=\"left\">\n",
    "\n",
    "  <td>\n",
    "    <a target=\"_blank\" href=\"https://drive.google.com/file/d/1YNAzDri4S6H6KnltgurK4VFhEFsyWDWC/view?usp=sharing\"><img src=\"https://www.tensorflow.org/images/colab_logo_32px.png\" />Run in Google Colab or Download from Google Drive</a>\n",
    "  </td>\n",
    "\n",
    "\n",
    "</table>"
   ]
  },
  {
   "cell_type": "markdown",
   "metadata": {
    "colab_type": "text",
    "id": "2X4KyhORdSeO"
   },
   "source": [
    "In this tutorial, you will learn how to classify images of building rooves by using transfer learning from a pre-trained network.\n"
   ]
  },
  {
   "cell_type": "markdown",
   "metadata": {
    "colab_type": "text",
    "id": "v77rlkCKW0IJ"
   },
   "source": [
    "## 1. Data preparation"
   ]
  },
  {
   "cell_type": "markdown",
   "metadata": {
    "colab_type": "text",
    "id": "0GoKGm1duzgk"
   },
   "source": [
    "### 1.1 Data download"
   ]
  },
  {
   "cell_type": "code",
   "execution_count": 1,
   "metadata": {
    "colab": {
     "base_uri": "https://localhost:8080/",
     "height": 190
    },
    "colab_type": "code",
    "id": "u18c_X7QWxEV",
    "outputId": "ac7af3b9-b894-4cd4-9c38-02feb3450544"
   },
   "outputs": [
    {
     "name": "stdout",
     "output_type": "stream",
     "text": [
      "Requirement already satisfied: wget in /Users/simcenter/Codes/Venvs/venv3.7.0_TF2/lib/python3.7/site-packages (3.2)\n",
      "\u001b[33mWARNING: You are using pip version 20.0.2; however, version 20.2.2 is available.\n",
      "You should consider upgrading via the '/Users/simcenter/Codes/Venvs/venv3.7.0_TF2/bin/python -m pip install --upgrade pip' command.\u001b[0m\n"
     ]
    }
   ],
   "source": [
    "# We'll need wget for downloading images in this example. \n",
    "# So, install wget firstly.\n",
    "!pip install wget"
   ]
  },
  {
   "cell_type": "code",
   "execution_count": 2,
   "metadata": {
    "colab": {},
    "colab_type": "code",
    "id": "TB2ySPcD6mvJ"
   },
   "outputs": [],
   "source": [
    "# Import packages \n",
    "import wget\n",
    "import zipfile\n",
    "import shutil\n",
    "\n",
    "# Download images prepared by SimCenter\n",
    "wget.download(\"https://zenodo.org/record/3986721/files/Roof_Satellite_Images.zip\", 'Roof_Satellite_Images.zip')\n",
    "\n",
    "# unzip images to a local folder\n",
    "with zipfile.ZipFile('Roof_Satellite_Images.zip', 'r') as zip_ref:\n",
    "        zip_ref.extractall('.')\n",
    "        shutil.rmtree('__MACOSX')\n",
    "\n"
   ]
  },
  {
   "cell_type": "code",
   "execution_count": 3,
   "metadata": {
    "colab": {
     "base_uri": "https://localhost:8080/",
     "height": 34
    },
    "colab_type": "code",
    "id": "dalhsbsiWguX",
    "outputId": "38715296-9bd2-4576-f697-86e4059a94c8"
   },
   "outputs": [
    {
     "name": "stdout",
     "output_type": "stream",
     "text": [
      "\u001b[34mflat\u001b[m\u001b[m   \u001b[34mgabled\u001b[m\u001b[m \u001b[34mhipped\u001b[m\u001b[m\r\n"
     ]
    }
   ],
   "source": [
    "# There images are 1000 images in each sub-folder under Roof_Satellite_Images\n",
    "!ls Roof_Satellite_Images"
   ]
  },
  {
   "cell_type": "markdown",
   "metadata": {
    "colab_type": "text",
    "id": "UVBswCqfwz2E"
   },
   "source": [
    "### 1.2 Split data"
   ]
  },
  {
   "cell_type": "code",
   "execution_count": 4,
   "metadata": {
    "colab": {},
    "colab_type": "code",
    "id": "TqOt6Sv7AsMi"
   },
   "outputs": [
    {
     "ename": "ImportError",
     "evalue": "cannot import name 'image_dataset_from_directory' from 'tensorflow.keras.preprocessing' (/Users/simcenter/Codes/Venvs/venv3.7.0_TF2/lib/python3.7/site-packages/tensorflow_core/python/keras/api/_v2/keras/preprocessing/__init__.py)",
     "output_type": "error",
     "traceback": [
      "\u001b[0;31m---------------------------------------------------------------------------\u001b[0m",
      "\u001b[0;31mImportError\u001b[0m                               Traceback (most recent call last)",
      "\u001b[0;32m<ipython-input-4-8f8f8f21a120>\u001b[0m in \u001b[0;36m<module>\u001b[0;34m\u001b[0m\n\u001b[1;32m      3\u001b[0m \u001b[0;32mimport\u001b[0m \u001b[0mos\u001b[0m\u001b[0;34m\u001b[0m\u001b[0m\n\u001b[1;32m      4\u001b[0m \u001b[0;32mimport\u001b[0m \u001b[0mtensorflow\u001b[0m \u001b[0;32mas\u001b[0m \u001b[0mtf\u001b[0m\u001b[0;34m\u001b[0m\u001b[0m\n\u001b[0;32m----> 5\u001b[0;31m \u001b[0;32mfrom\u001b[0m \u001b[0mtensorflow\u001b[0m\u001b[0;34m.\u001b[0m\u001b[0mkeras\u001b[0m\u001b[0;34m.\u001b[0m\u001b[0mpreprocessing\u001b[0m \u001b[0;32mimport\u001b[0m \u001b[0mimage_dataset_from_directory\u001b[0m\u001b[0;34m\u001b[0m\u001b[0m\n\u001b[0m\u001b[1;32m      6\u001b[0m \u001b[0;32mfrom\u001b[0m \u001b[0mtensorflow\u001b[0m\u001b[0;34m.\u001b[0m\u001b[0mkeras\u001b[0m\u001b[0;34m.\u001b[0m\u001b[0mapplications\u001b[0m\u001b[0;34m.\u001b[0m\u001b[0minception_v3\u001b[0m \u001b[0;32mimport\u001b[0m \u001b[0mpreprocess_input\u001b[0m\u001b[0;34m\u001b[0m\u001b[0m\n",
      "\u001b[0;31mImportError\u001b[0m: cannot import name 'image_dataset_from_directory' from 'tensorflow.keras.preprocessing' (/Users/simcenter/Codes/Venvs/venv3.7.0_TF2/lib/python3.7/site-packages/tensorflow_core/python/keras/api/_v2/keras/preprocessing/__init__.py)"
     ]
    }
   ],
   "source": [
    "import matplotlib.pyplot as plt\n",
    "import numpy as np\n",
    "import os\n",
    "import tensorflow as tf\n",
    "from tensorflow.keras.preprocessing import image_dataset_from_directory\n",
    "from tensorflow.keras.applications.inception_v3 import preprocess_input\n"
   ]
  },
  {
   "cell_type": "code",
   "execution_count": null,
   "metadata": {
    "colab": {
     "base_uri": "https://localhost:8080/",
     "height": 136
    },
    "colab_type": "code",
    "id": "sY6Nz0zF9mK0",
    "outputId": "7ef30169-6bbe-49a2-8f52-c6cf56641d08"
   },
   "outputs": [],
   "source": [
    "img_dir = 'Roof_Satellite_Images'\n",
    "image_size = (256, 256)\n",
    "batch_size = 32\n",
    "\n",
    "print('* First split the data with 8:2.')\n",
    "train_ds = tf.keras.preprocessing.image_dataset_from_directory(\n",
    "    img_dir,\n",
    "    validation_split=0.2,\n",
    "    subset=\"training\",\n",
    "    seed=1993,\n",
    "    image_size=image_size,\n",
    "    batch_size=batch_size,\n",
    "    label_mode='categorical'\n",
    ")\n",
    "val_ds = tf.keras.preprocessing.image_dataset_from_directory(\n",
    "    img_dir,\n",
    "    validation_split=0.2,\n",
    "    subset=\"validation\",\n",
    "    seed=1993,\n",
    "    image_size=image_size,\n",
    "    batch_size=batch_size,\n",
    "    label_mode='categorical'\n",
    ")\n",
    "\n",
    "print(\"* Then take 20% out of the validation for final testing.\")\n",
    "val_batches = tf.data.experimental.cardinality(val_ds)\n",
    "test_ds = val_ds.take(val_batches // 5)\n",
    "val_ds = val_ds.skip(val_batches // 5)\n",
    "\n",
    "class_names = train_ds.class_names\n",
    "print('The names of the classes are: ',class_names)\n",
    "\n",
    "\n",
    "# Configure the dataset for performance \n",
    "AUTOTUNE = tf.data.experimental.AUTOTUNE\n",
    "train_ds = train_ds.prefetch(buffer_size=AUTOTUNE)\n",
    "val_ds = val_ds.prefetch(buffer_size=AUTOTUNE)\n",
    "test_ds = test_ds.prefetch(buffer_size=AUTOTUNE)"
   ]
  },
  {
   "cell_type": "markdown",
   "metadata": {
    "colab_type": "text",
    "id": "OkH-kazQecHB"
   },
   "source": [
    "## 2. Create model \n"
   ]
  },
  {
   "cell_type": "markdown",
   "metadata": {
    "colab_type": "text",
    "id": "gkdEBDlB2FVx"
   },
   "source": [
    "### 2.1 Load the pre-trained base model"
   ]
  },
  {
   "cell_type": "code",
   "execution_count": null,
   "metadata": {
    "colab": {
     "base_uri": "https://localhost:8080/",
     "height": 71
    },
    "colab_type": "code",
    "id": "19IQ2gqneqmS",
    "outputId": "8df2e762-3c1c-4a30-f692-84c985cd9d94"
   },
   "outputs": [],
   "source": [
    "# Load InceptionV3 model pre-trained on imagenet\n",
    "base_model = tf.keras.applications.InceptionV3(input_shape=image_size + (3,),\n",
    "                                               include_top=False,\n",
    "                                               weights='imagenet')\n",
    "# Freeze the base model\n",
    "base_model.trainable = False"
   ]
  },
  {
   "cell_type": "markdown",
   "metadata": {
    "colab_type": "text",
    "id": "wdMRM8YModbk"
   },
   "source": [
    "### 2.2 Add preprocessing layers and a classification head to build the model\n",
    "(Chaining together the data preprocessing, base_model and feature extractor layers using the [Keras Functional API](https://www.tensorflow.org/guide/keras/functional)). "
   ]
  },
  {
   "cell_type": "code",
   "execution_count": null,
   "metadata": {
    "colab": {},
    "colab_type": "code",
    "id": "dLnpMF5KOALm"
   },
   "outputs": [],
   "source": [
    "# Pre-processing layer\n",
    "inputs = tf.keras.Input(shape=image_size + (3,))\n",
    "x = preprocess_input(inputs) \n",
    "\n",
    "# Then go into the backbone model\n",
    "x = base_model(x)\n",
    "\n",
    "# Then go into the classification header\n",
    "x = tf.keras.layers.GlobalAveragePooling2D()(x)\n",
    "x = tf.keras.layers.Dropout(0.6)(x) # You can change the dropout rate \n",
    "prediction_layer = tf.keras.layers.Dense(len(class_names), activation='softmax')\n",
    "outputs = prediction_layer(x)\n",
    "\n",
    "# Put them together\n",
    "model = tf.keras.Model(inputs, outputs)\n",
    "\n"
   ]
  },
  {
   "cell_type": "markdown",
   "metadata": {
    "colab_type": "text",
    "id": "g0ylJXE_kRLi"
   },
   "source": [
    "### 2.3 Compile the model\n",
    "\n"
   ]
  },
  {
   "cell_type": "code",
   "execution_count": null,
   "metadata": {
    "colab": {
     "base_uri": "https://localhost:8080/",
     "height": 391
    },
    "colab_type": "code",
    "id": "RpR8HdyMhukJ",
    "outputId": "4ba48342-fc23-44a3-b82f-1becc92dc9df"
   },
   "outputs": [],
   "source": [
    "base_learning_rate = 0.0001\n",
    "model.compile(optimizer=tf.keras.optimizers.Adam(lr=base_learning_rate),\n",
    "              loss=tf.keras.losses.CategoricalCrossentropy(from_logits=True),\n",
    "              metrics=['accuracy'])\n",
    "model.summary()"
   ]
  },
  {
   "cell_type": "markdown",
   "metadata": {
    "colab_type": "text",
    "id": "RxvgOYTDSWTx"
   },
   "source": [
    "## 3. Train the model\n",
    "\n",
    "\n"
   ]
  },
  {
   "cell_type": "code",
   "execution_count": null,
   "metadata": {
    "colab": {
     "base_uri": "https://localhost:8080/",
     "height": 901
    },
    "colab_type": "code",
    "id": "JsaRFlZ9B6WK",
    "outputId": "dfcc7ce3-0538-4b91-c003-507f70905f19"
   },
   "outputs": [],
   "source": [
    "initial_epochs = 30\n",
    "history = model.fit(train_ds, epochs=initial_epochs, validation_data=val_ds)"
   ]
  },
  {
   "cell_type": "code",
   "execution_count": null,
   "metadata": {
    "colab": {},
    "colab_type": "code",
    "id": "53OTCh3jnbwV"
   },
   "outputs": [],
   "source": [
    "# Plot learning curves\n",
    "\n",
    "acc = history.history['accuracy']\n",
    "val_acc = history.history['val_accuracy']\n",
    "\n",
    "loss = history.history['loss']\n",
    "val_loss = history.history['val_loss']\n",
    "\n",
    "plt.figure(figsize=(8, 8))\n",
    "plt.subplot(2, 1, 1)\n",
    "plt.plot(acc, label='Training Accuracy')\n",
    "plt.plot(val_acc, label='Validation Accuracy')\n",
    "plt.legend(loc='lower right')\n",
    "plt.ylabel('Accuracy')\n",
    "plt.ylim([min(plt.ylim()),1])\n",
    "plt.title('Training and Validation Accuracy')\n",
    "\n",
    "plt.subplot(2, 1, 2)\n",
    "plt.plot(loss, label='Training Loss')\n",
    "plt.plot(val_loss, label='Validation Loss')\n",
    "plt.legend(loc='upper right')\n",
    "plt.ylabel('Cross Entropy')\n",
    "plt.ylim([0,1.0])\n",
    "plt.title('Training and Validation Loss')\n",
    "plt.xlabel('epoch')\n",
    "plt.show()"
   ]
  },
  {
   "cell_type": "markdown",
   "metadata": {
    "colab_type": "text",
    "id": "CqwV-CRdS6Nv"
   },
   "source": [
    "## 4. Fine tuning\n"
   ]
  },
  {
   "cell_type": "markdown",
   "metadata": {
    "colab_type": "text",
    "id": "CPXnzUK0QonF"
   },
   "source": [
    "### 4.1 Un-freeze the top layers of the model\n"
   ]
  },
  {
   "cell_type": "code",
   "execution_count": null,
   "metadata": {
    "colab": {},
    "colab_type": "code",
    "id": "-4HgVAacRs5v"
   },
   "outputs": [],
   "source": [
    "# Un-freeze the whole base model\n",
    "base_model.trainable = True\n",
    "\n",
    "# Fine-tune from this layer onwards\n",
    "fine_tune_at = 300 # There are a total of 311 layer\n",
    "\n",
    "# Freeze all the layers before the `fine_tune_at` layer\n",
    "for layer in base_model.layers[:fine_tune_at]:\n",
    "  layer.trainable =  False\n"
   ]
  },
  {
   "cell_type": "markdown",
   "metadata": {
    "colab_type": "text",
    "id": "4Uk1dgsxT0IS"
   },
   "source": [
    "### 4.2 Compile the model\n"
   ]
  },
  {
   "cell_type": "code",
   "execution_count": null,
   "metadata": {
    "colab": {},
    "colab_type": "code",
    "id": "NtUnaz0WUDva"
   },
   "outputs": [],
   "source": [
    "model.compile(optimizer=tf.keras.optimizers.Adam(lr=base_learning_rate/10),\n",
    "              loss=tf.keras.losses.CategoricalCrossentropy(from_logits=True),\n",
    "              metrics=['accuracy'])\n",
    "#model.summary()"
   ]
  },
  {
   "cell_type": "markdown",
   "metadata": {
    "colab_type": "text",
    "id": "4G5O4jd6TuAG"
   },
   "source": [
    "### 4.3 Continue training the model"
   ]
  },
  {
   "cell_type": "code",
   "execution_count": null,
   "metadata": {
    "colab": {},
    "colab_type": "code",
    "id": "ECQLkAsFTlun"
   },
   "outputs": [],
   "source": [
    "fine_tune_epochs = 30\n",
    "total_epochs =  initial_epochs + fine_tune_epochs\n",
    "history_fine = model.fit(train_ds, epochs=total_epochs, initial_epoch=history.epoch[-1], validation_data=val_ds)\n"
   ]
  },
  {
   "cell_type": "code",
   "execution_count": null,
   "metadata": {
    "colab": {},
    "colab_type": "code",
    "id": "chW103JUItdk"
   },
   "outputs": [],
   "source": [
    "# Plot learning curves\n",
    "\n",
    "acc += history_fine.history['accuracy']\n",
    "val_acc += history_fine.history['val_accuracy']\n",
    "\n",
    "loss += history_fine.history['loss']\n",
    "val_loss += history_fine.history['val_loss']\n",
    "\n",
    "plt.figure(figsize=(8, 8))\n",
    "plt.subplot(2, 1, 1)\n",
    "plt.plot(acc, label='Training Accuracy')\n",
    "plt.plot(val_acc, label='Validation Accuracy')\n",
    "plt.ylim([0.8, 1])\n",
    "plt.plot([initial_epochs-1,initial_epochs-1],\n",
    "          plt.ylim(), label='Start Fine Tuning')\n",
    "plt.legend(loc='lower right')\n",
    "plt.title('Training and Validation Accuracy')\n",
    "\n",
    "plt.subplot(2, 1, 2)\n",
    "plt.plot(loss, label='Training Loss')\n",
    "plt.plot(val_loss, label='Validation Loss')\n",
    "plt.ylim([0, 1.0])\n",
    "plt.plot([initial_epochs-1,initial_epochs-1],\n",
    "         plt.ylim(), label='Start Fine Tuning')\n",
    "plt.legend(loc='upper right')\n",
    "plt.title('Training and Validation Loss')\n",
    "plt.xlabel('epoch')\n",
    "plt.show()"
   ]
  },
  {
   "cell_type": "markdown",
   "metadata": {
    "colab_type": "text",
    "id": "R6cWgjgfrsn5"
   },
   "source": [
    "## 5. Evaluate the performance of the model"
   ]
  },
  {
   "cell_type": "code",
   "execution_count": null,
   "metadata": {
    "colab": {},
    "colab_type": "code",
    "id": "2KyNhagHwfar"
   },
   "outputs": [],
   "source": [
    "# Evaluate the overall performance on the test set\n",
    "loss, accuracy = model.evaluate(test_ds)\n",
    "print('Test accuracy :', accuracy)"
   ]
  },
  {
   "cell_type": "code",
   "execution_count": null,
   "metadata": {
    "colab": {},
    "colab_type": "code",
    "id": "5knEDLttazrC"
   },
   "outputs": [],
   "source": [
    "# Save the model in the current folder \n",
    "model.save('roof_classifier.h5') \n",
    "\n",
    "# Download the trained model to your computer\n",
    "from google.colab import files\n",
    "files.download('roof_classifier.h5')"
   ]
  },
  {
   "cell_type": "markdown",
   "metadata": {
    "colab_type": "text",
    "id": "ilgFMCaFF7F8"
   },
   "source": [
    "## 6. Use the model for prediction"
   ]
  },
  {
   "cell_type": "code",
   "execution_count": null,
   "metadata": {
    "colab": {},
    "colab_type": "code",
    "id": "pMeGYr1sFqKw"
   },
   "outputs": [],
   "source": [
    "import random\n",
    "import numpy as np\n",
    "from glob import glob\n",
    "from tensorflow.keras.preprocessing import image\n",
    "from tensorflow.keras.models import load_model\n",
    "\n",
    "\n",
    "model = load_model('roof_classifier.h5')\n",
    "class_names = ['flat', 'gabled', 'hipped']\n",
    "imgList = glob('Roof_Satellite_Images/*/*.png')\n",
    "\n",
    "random.shuffle(imgList)\n",
    "\n",
    "plt.figure(figsize=(10, 10))\n",
    "for i in range(9):\n",
    "  img_path = imgList[i]\n",
    "  ax = plt.subplot(3, 3, i + 1)\n",
    "  img = image.load_img(img_path, target_size=(256, 256))\n",
    "  x = image.img_to_array(img)\n",
    "  plt.imshow(x.astype(\"uint8\"))\n",
    "  \n",
    "  x = np.expand_dims(x, axis=0)\n",
    "\n",
    "  prediction = model.predict(x)\n",
    "  prediction = np.argmax(prediction[0])\n",
    "  plt.title(class_names[prediction])\n",
    "  plt.axis(\"off\")"
   ]
  }
 ],
 "metadata": {
  "accelerator": "GPU",
  "colab": {
   "collapsed_sections": [
    "v77rlkCKW0IJ",
    "0GoKGm1duzgk",
    "UVBswCqfwz2E",
    "OkH-kazQecHB",
    "gkdEBDlB2FVx",
    "wdMRM8YModbk",
    "g0ylJXE_kRLi",
    "RxvgOYTDSWTx",
    "4G5O4jd6TuAG",
    "R6cWgjgfrsn5"
   ],
   "name": "transfer_learning_InceptionV3.ipynb",
   "provenance": []
  },
  "kernelspec": {
   "display_name": "Python 3",
   "language": "python",
   "name": "python3"
  },
  "language_info": {
   "codemirror_mode": {
    "name": "ipython",
    "version": 3
   },
   "file_extension": ".py",
   "mimetype": "text/x-python",
   "name": "python",
   "nbconvert_exporter": "python",
   "pygments_lexer": "ipython3",
   "version": "3.7.0"
  }
 },
 "nbformat": 4,
 "nbformat_minor": 1
}
